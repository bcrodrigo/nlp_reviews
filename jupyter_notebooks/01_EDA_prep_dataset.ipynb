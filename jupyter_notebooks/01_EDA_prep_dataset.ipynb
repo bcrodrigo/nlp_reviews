{
 "cells": [
  {
   "cell_type": "markdown",
   "id": "d4d29702-d2a0-46ea-8fe6-22e163849916",
   "metadata": {},
   "source": [
    "# Tests for NLP project"
   ]
  },
  {
   "cell_type": "markdown",
   "id": "7f23c470-e5ba-4bd2-ac23-fe8be35baf97",
   "metadata": {},
   "source": [
    "Notebook to perform some exploratory analysis on a reviews dataset of Amazon foods.\n",
    "The dataset was sourced from [here](https://www.kaggle.com/datasets/snap/amazon-fine-food-reviews/data)."
   ]
  },
  {
   "cell_type": "markdown",
   "id": "94235c2f-6d78-4dd2-b64f-afaa7dae7537",
   "metadata": {},
   "source": [
    "## Data Dictionary\n",
    "\n",
    "- `Id`: Row ID (int64).\n",
    "- `ProductId`: Unique identifier for Product (object).\n",
    "- `UserId`: Unique identifier for the User (object).\n",
    "- `ProfileName`: Profile name of the user (object).\n",
    "- `HelpfulnessNumerator`: Number of users who found review helpful (int64).\n",
    "- `HelpfulnessDenominator`: Number of users who indicated whether they found the review helpful or not (int64).\n",
    "- `Score`: Rating between 1 and 5\n",
    "- `Time`: Timestamp for the review.\n",
    "- `Summary`: Brief summary of review\n",
    "- `Text`: Full review"
   ]
  },
  {
   "cell_type": "markdown",
   "id": "8e556b07-d7a0-4320-a5fb-d0ac1ad6a4ab",
   "metadata": {},
   "source": [
    "# EDA"
   ]
  },
  {
   "cell_type": "markdown",
   "id": "59a9d5e5-f0f8-430b-bf00-9e58f9a382dc",
   "metadata": {},
   "source": [
    "## Import Libraries and Load DataFrame"
   ]
  },
  {
   "cell_type": "code",
   "execution_count": 13,
   "id": "9f3779dc-dd0e-47d7-a731-85be0fd432b0",
   "metadata": {},
   "outputs": [],
   "source": [
    "import numpy as np\n",
    "import pandas as pd\n",
    "\n",
    "import matplotlib.pyplot as plt"
   ]
  },
  {
   "cell_type": "code",
   "execution_count": 6,
   "id": "7a42154c-05cf-4ec1-8f4e-8d8b713557c7",
   "metadata": {},
   "outputs": [],
   "source": [
    "df = pd.read_csv('data/Reviews.csv')"
   ]
  },
  {
   "cell_type": "code",
   "execution_count": 7,
   "id": "b92c7a01-8c39-4996-973b-802fa003f52b",
   "metadata": {},
   "outputs": [
    {
     "name": "stdout",
     "output_type": "stream",
     "text": [
      "<class 'pandas.core.frame.DataFrame'>\n",
      "RangeIndex: 568454 entries, 0 to 568453\n",
      "Data columns (total 10 columns):\n",
      " #   Column                  Non-Null Count   Dtype \n",
      "---  ------                  --------------   ----- \n",
      " 0   Id                      568454 non-null  int64 \n",
      " 1   ProductId               568454 non-null  object\n",
      " 2   UserId                  568454 non-null  object\n",
      " 3   ProfileName             568428 non-null  object\n",
      " 4   HelpfulnessNumerator    568454 non-null  int64 \n",
      " 5   HelpfulnessDenominator  568454 non-null  int64 \n",
      " 6   Score                   568454 non-null  int64 \n",
      " 7   Time                    568454 non-null  int64 \n",
      " 8   Summary                 568427 non-null  object\n",
      " 9   Text                    568454 non-null  object\n",
      "dtypes: int64(5), object(5)\n",
      "memory usage: 43.4+ MB\n"
     ]
    }
   ],
   "source": [
    "df.info()"
   ]
  },
  {
   "cell_type": "code",
   "execution_count": 8,
   "id": "b28d7e01-ec35-4ad4-80c5-a7123f8c91f5",
   "metadata": {},
   "outputs": [
    {
     "data": {
      "text/plain": [
       "(568454, 10)"
      ]
     },
     "execution_count": 8,
     "metadata": {},
     "output_type": "execute_result"
    }
   ],
   "source": [
    "df.shape"
   ]
  },
  {
   "cell_type": "code",
   "execution_count": 10,
   "id": "deba67c1-d3f5-46e4-a100-0743c02dff33",
   "metadata": {},
   "outputs": [
    {
     "data": {
      "text/html": [
       "<div>\n",
       "<style scoped>\n",
       "    .dataframe tbody tr th:only-of-type {\n",
       "        vertical-align: middle;\n",
       "    }\n",
       "\n",
       "    .dataframe tbody tr th {\n",
       "        vertical-align: top;\n",
       "    }\n",
       "\n",
       "    .dataframe thead th {\n",
       "        text-align: right;\n",
       "    }\n",
       "</style>\n",
       "<table border=\"1\" class=\"dataframe\">\n",
       "  <thead>\n",
       "    <tr style=\"text-align: right;\">\n",
       "      <th></th>\n",
       "      <th>Id</th>\n",
       "      <th>ProductId</th>\n",
       "      <th>UserId</th>\n",
       "      <th>ProfileName</th>\n",
       "      <th>HelpfulnessNumerator</th>\n",
       "      <th>HelpfulnessDenominator</th>\n",
       "      <th>Score</th>\n",
       "      <th>Time</th>\n",
       "      <th>Summary</th>\n",
       "      <th>Text</th>\n",
       "    </tr>\n",
       "  </thead>\n",
       "  <tbody>\n",
       "    <tr>\n",
       "      <th>0</th>\n",
       "      <td>1</td>\n",
       "      <td>B001E4KFG0</td>\n",
       "      <td>A3SGXH7AUHU8GW</td>\n",
       "      <td>delmartian</td>\n",
       "      <td>1</td>\n",
       "      <td>1</td>\n",
       "      <td>5</td>\n",
       "      <td>1303862400</td>\n",
       "      <td>Good Quality Dog Food</td>\n",
       "      <td>I have bought several of the Vitality canned d...</td>\n",
       "    </tr>\n",
       "    <tr>\n",
       "      <th>1</th>\n",
       "      <td>2</td>\n",
       "      <td>B00813GRG4</td>\n",
       "      <td>A1D87F6ZCVE5NK</td>\n",
       "      <td>dll pa</td>\n",
       "      <td>0</td>\n",
       "      <td>0</td>\n",
       "      <td>1</td>\n",
       "      <td>1346976000</td>\n",
       "      <td>Not as Advertised</td>\n",
       "      <td>Product arrived labeled as Jumbo Salted Peanut...</td>\n",
       "    </tr>\n",
       "    <tr>\n",
       "      <th>2</th>\n",
       "      <td>3</td>\n",
       "      <td>B000LQOCH0</td>\n",
       "      <td>ABXLMWJIXXAIN</td>\n",
       "      <td>Natalia Corres \"Natalia Corres\"</td>\n",
       "      <td>1</td>\n",
       "      <td>1</td>\n",
       "      <td>4</td>\n",
       "      <td>1219017600</td>\n",
       "      <td>\"Delight\" says it all</td>\n",
       "      <td>This is a confection that has been around a fe...</td>\n",
       "    </tr>\n",
       "    <tr>\n",
       "      <th>3</th>\n",
       "      <td>4</td>\n",
       "      <td>B000UA0QIQ</td>\n",
       "      <td>A395BORC6FGVXV</td>\n",
       "      <td>Karl</td>\n",
       "      <td>3</td>\n",
       "      <td>3</td>\n",
       "      <td>2</td>\n",
       "      <td>1307923200</td>\n",
       "      <td>Cough Medicine</td>\n",
       "      <td>If you are looking for the secret ingredient i...</td>\n",
       "    </tr>\n",
       "    <tr>\n",
       "      <th>4</th>\n",
       "      <td>5</td>\n",
       "      <td>B006K2ZZ7K</td>\n",
       "      <td>A1UQRSCLF8GW1T</td>\n",
       "      <td>Michael D. Bigham \"M. Wassir\"</td>\n",
       "      <td>0</td>\n",
       "      <td>0</td>\n",
       "      <td>5</td>\n",
       "      <td>1350777600</td>\n",
       "      <td>Great taffy</td>\n",
       "      <td>Great taffy at a great price.  There was a wid...</td>\n",
       "    </tr>\n",
       "  </tbody>\n",
       "</table>\n",
       "</div>"
      ],
      "text/plain": [
       "   Id   ProductId          UserId                      ProfileName  \\\n",
       "0   1  B001E4KFG0  A3SGXH7AUHU8GW                       delmartian   \n",
       "1   2  B00813GRG4  A1D87F6ZCVE5NK                           dll pa   \n",
       "2   3  B000LQOCH0   ABXLMWJIXXAIN  Natalia Corres \"Natalia Corres\"   \n",
       "3   4  B000UA0QIQ  A395BORC6FGVXV                             Karl   \n",
       "4   5  B006K2ZZ7K  A1UQRSCLF8GW1T    Michael D. Bigham \"M. Wassir\"   \n",
       "\n",
       "   HelpfulnessNumerator  HelpfulnessDenominator  Score        Time  \\\n",
       "0                     1                       1      5  1303862400   \n",
       "1                     0                       0      1  1346976000   \n",
       "2                     1                       1      4  1219017600   \n",
       "3                     3                       3      2  1307923200   \n",
       "4                     0                       0      5  1350777600   \n",
       "\n",
       "                 Summary                                               Text  \n",
       "0  Good Quality Dog Food  I have bought several of the Vitality canned d...  \n",
       "1      Not as Advertised  Product arrived labeled as Jumbo Salted Peanut...  \n",
       "2  \"Delight\" says it all  This is a confection that has been around a fe...  \n",
       "3         Cough Medicine  If you are looking for the secret ingredient i...  \n",
       "4            Great taffy  Great taffy at a great price.  There was a wid...  "
      ]
     },
     "execution_count": 10,
     "metadata": {},
     "output_type": "execute_result"
    }
   ],
   "source": [
    "df.head()"
   ]
  },
  {
   "cell_type": "markdown",
   "id": "b97253b4-9a1f-4e28-83a1-e07a16b5d7a2",
   "metadata": {},
   "source": [
    "From the cells above we see there are\n",
    "- 568,454 reviews in total\n",
    "- There are 10 columns\n",
    "- The `Text` and `Score` columns are probably going to be the only ones we use"
   ]
  },
  {
   "cell_type": "markdown",
   "id": "1277ca71-86d6-441f-8097-4255e3590cef",
   "metadata": {},
   "source": [
    "Just for completeness let's check if there are any null values:"
   ]
  },
  {
   "cell_type": "code",
   "execution_count": 44,
   "id": "9e64566d-90d7-4257-9d5a-709fa3b6d9b5",
   "metadata": {},
   "outputs": [
    {
     "data": {
      "text/plain": [
       "Id                         0\n",
       "ProductId                  0\n",
       "UserId                     0\n",
       "ProfileName               26\n",
       "HelpfulnessNumerator       0\n",
       "HelpfulnessDenominator     0\n",
       "Score                      0\n",
       "Time                       0\n",
       "Summary                   27\n",
       "Text                       0\n",
       "dtype: int64"
      ]
     },
     "execution_count": 44,
     "metadata": {},
     "output_type": "execute_result"
    }
   ],
   "source": [
    "df.isnull().sum()"
   ]
  },
  {
   "cell_type": "markdown",
   "id": "5f10a058-eced-4ed5-a008-d8c11d6474a9",
   "metadata": {},
   "source": [
    "Only the `ProfileName` and `Summary` have null values. No issue because we're not really going to use these."
   ]
  },
  {
   "cell_type": "code",
   "execution_count": 45,
   "id": "58b8b09a-fb86-4846-a3d1-e7335dd66c93",
   "metadata": {},
   "outputs": [
    {
     "data": {
      "text/plain": [
       "0"
      ]
     },
     "execution_count": 45,
     "metadata": {},
     "output_type": "execute_result"
    }
   ],
   "source": [
    "df.duplicated().sum()"
   ]
  },
  {
   "cell_type": "markdown",
   "id": "4195b6b6-13c6-474e-ba4e-fc0e005de67b",
   "metadata": {},
   "source": [
    "No duplicate rows."
   ]
  },
  {
   "cell_type": "markdown",
   "id": "f7fc522f-a7e9-4e48-a850-481c2b27ad96",
   "metadata": {},
   "source": [
    "## Distribution of Review Scores"
   ]
  },
  {
   "cell_type": "code",
   "execution_count": 19,
   "id": "175ab488-7d13-40bf-b55a-26d83c8537ae",
   "metadata": {},
   "outputs": [
    {
     "data": {
      "image/png": "[encoded data removed]",
      "text/plain": [
       "<Figure size 640x480 with 1 Axes>"
      ]
     },
     "metadata": {},
     "output_type": "display_data"
    }
   ],
   "source": [
    "ind = df['Score'].value_counts(normalize = True).index\n",
    "val = df['Score'].value_counts(normalize = True).values\n",
    "\n",
    "plt.bar(ind,val)\n",
    "plt.xlabel('Review Score')\n",
    "plt.ylabel('Fraction of total')\n",
    "plt.grid()"
   ]
  },
  {
   "cell_type": "markdown",
   "id": "8c67e8f8-2923-4c3c-98d2-ae7de6d56977",
   "metadata": {},
   "source": [
    "We can see that there is a class imbalance in the review score: over 60% of the reviews are scored 5, whereas the remaining 40% all range from 1 to 4. \n",
    "\n",
    "Therefore, we have different approaches to try and predict the sentiment of the review:\n",
    "- We can establish a threshold as to what constitutes a positive or negative review\n",
    "- We can convert the problem to 3-class (negative, neutral, positive) and perhaps downsample the positive reviews\n",
    "- If we want to preserve the review scores (multiclass classification) we can downsample the reviews with score 5"
   ]
  },
  {
   "cell_type": "markdown",
   "id": "d3f644c4-e0f6-484d-8f51-61b1c26ea81d",
   "metadata": {},
   "source": [
    "## Looking at the product ID"
   ]
  },
  {
   "cell_type": "code",
   "execution_count": 26,
   "id": "b97bd43e-0489-44b6-b155-526212b33b11",
   "metadata": {},
   "outputs": [],
   "source": [
    "prod_val_counts = df['ProductId'].value_counts()"
   ]
  },
  {
   "cell_type": "code",
   "execution_count": 27,
   "id": "9798ee12-5036-49db-9cfa-d9d162448712",
   "metadata": {},
   "outputs": [
    {
     "data": {
      "text/plain": [
       "ProductId\n",
       "B007JFMH8M    913\n",
       "B0026RQTGE    632\n",
       "B002QWHJOU    632\n",
       "B002QWP89S    632\n",
       "B002QWP8H0    632\n",
       "             ... \n",
       "B004DSPTTM      1\n",
       "B008C9QWU8      1\n",
       "B007O5A6BM      1\n",
       "B003Q4TZ08      1\n",
       "B001LR2CU2      1\n",
       "Name: count, Length: 74258, dtype: int64"
      ]
     },
     "execution_count": 27,
     "metadata": {},
     "output_type": "execute_result"
    }
   ],
   "source": [
    "prod_val_counts"
   ]
  },
  {
   "cell_type": "code",
   "execution_count": 22,
   "id": "868f5c92-3edd-4755-9b0b-de0a1d856384",
   "metadata": {},
   "outputs": [
    {
     "data": {
      "text/plain": [
       "(568454, 10)"
      ]
     },
     "execution_count": 22,
     "metadata": {},
     "output_type": "execute_result"
    }
   ],
   "source": [
    "df.shape"
   ]
  },
  {
   "cell_type": "markdown",
   "id": "e3ce92dc-6ae9-451a-bf17-20bdc8f02341",
   "metadata": {},
   "source": [
    "We can see that there are 74,258 unique products and they all have anywhere between 1 and 913 different reviews. We could perhaps remove the products that only have one review."
   ]
  },
  {
   "cell_type": "code",
   "execution_count": 31,
   "id": "5b10025e-3258-4607-a32c-1ba0ffb77d94",
   "metadata": {},
   "outputs": [
    {
     "data": {
      "text/plain": [
       "ProductId\n",
       "B007JFMH8M    913\n",
       "B0026RQTGE    632\n",
       "B002QWHJOU    632\n",
       "B002QWP89S    632\n",
       "B002QWP8H0    632\n",
       "             ... \n",
       "B000F764BW      6\n",
       "B003DNL9VA      6\n",
       "B004FH6NHS      6\n",
       "B000FVZW70      6\n",
       "B001EO7F8G      6\n",
       "Name: count, Length: 17310, dtype: int64"
      ]
     },
     "execution_count": 31,
     "metadata": {},
     "output_type": "execute_result"
    }
   ],
   "source": [
    "ind = (prod_val_counts.values > 5)\n",
    "prod_val_counts[ind]"
   ]
  },
  {
   "cell_type": "code",
   "execution_count": 40,
   "id": "bbfb28df-0247-4bf5-ba33-4dae65fbd656",
   "metadata": {},
   "outputs": [
    {
     "data": {
      "text/plain": [
       "Text(0, 0.5, 'Frequency')"
      ]
     },
     "execution_count": 40,
     "metadata": {},
     "output_type": "execute_result"
    },
    {
     "data": {
      "image/png": "[encoded data removed]",
      "text/plain": [
       "<Figure size 640x480 with 1 Axes>"
      ]
     },
     "metadata": {},
     "output_type": "display_data"
    }
   ],
   "source": [
    "plt.hist(prod_val_counts.values,20)\n",
    "plt.yscale('log')\n",
    "plt.grid()\n",
    "plt.xlabel('Number of Reviews')\n",
    "plt.ylabel('Frequency')"
   ]
  },
  {
   "cell_type": "markdown",
   "id": "803e8432-5e0b-4240-8cbb-58078284426f",
   "metadata": {},
   "source": [
    "From the graph above we see that the numbers of reviews that products with less than 200 reviews have a higher frequency."
   ]
  },
  {
   "cell_type": "markdown",
   "id": "82866b08-2981-4bfd-b691-c20cf14588af",
   "metadata": {},
   "source": []
  },
  {
   "cell_type": "markdown",
   "id": "855c66d3-5b6d-4071-8579-c73b7721bf5a",
   "metadata": {},
   "source": [
    "# "
   ]
  },
  {
   "cell_type": "code",
   "execution_count": 62,
   "id": "035eec8b-0e67-4ac2-bc20-fa0e54bad00f",
   "metadata": {},
   "outputs": [],
   "source": [
    "df_new = df[['Text','Score']]"
   ]
  },
  {
   "cell_type": "code",
   "execution_count": 63,
   "id": "b03fb2e7-827f-4d97-988a-3dba6437b046",
   "metadata": {},
   "outputs": [],
   "source": [
    "df_new_encoding = df_new.copy()"
   ]
  },
  {
   "cell_type": "code",
   "execution_count": 64,
   "id": "80256a4c-f397-4667-b3fc-1b092cb3fd79",
   "metadata": {},
   "outputs": [],
   "source": [
    "mapping = {\n",
    "    1:0,\n",
    "    2:0,\n",
    "    3:1,\n",
    "    4:2,\n",
    "    5:2\n",
    "}\n",
    "\n",
    "df_new_encoding['Score'] = df_new['Score'].map(mapping).values"
   ]
  },
  {
   "cell_type": "code",
   "execution_count": 65,
   "id": "3eb96d34-2bab-44ee-9f78-7e36d730aa18",
   "metadata": {},
   "outputs": [
    {
     "data": {
      "text/html": [
       "<div>\n",
       "<style scoped>\n",
       "    .dataframe tbody tr th:only-of-type {\n",
       "        vertical-align: middle;\n",
       "    }\n",
       "\n",
       "    .dataframe tbody tr th {\n",
       "        vertical-align: top;\n",
       "    }\n",
       "\n",
       "    .dataframe thead th {\n",
       "        text-align: right;\n",
       "    }\n",
       "</style>\n",
       "<table border=\"1\" class=\"dataframe\">\n",
       "  <thead>\n",
       "    <tr style=\"text-align: right;\">\n",
       "      <th></th>\n",
       "      <th>Text</th>\n",
       "      <th>Score</th>\n",
       "    </tr>\n",
       "  </thead>\n",
       "  <tbody>\n",
       "    <tr>\n",
       "      <th>0</th>\n",
       "      <td>I have bought several of the Vitality canned d...</td>\n",
       "      <td>2</td>\n",
       "    </tr>\n",
       "    <tr>\n",
       "      <th>1</th>\n",
       "      <td>Product arrived labeled as Jumbo Salted Peanut...</td>\n",
       "      <td>0</td>\n",
       "    </tr>\n",
       "    <tr>\n",
       "      <th>2</th>\n",
       "      <td>This is a confection that has been around a fe...</td>\n",
       "      <td>2</td>\n",
       "    </tr>\n",
       "    <tr>\n",
       "      <th>3</th>\n",
       "      <td>If you are looking for the secret ingredient i...</td>\n",
       "      <td>0</td>\n",
       "    </tr>\n",
       "    <tr>\n",
       "      <th>4</th>\n",
       "      <td>Great taffy at a great price.  There was a wid...</td>\n",
       "      <td>2</td>\n",
       "    </tr>\n",
       "  </tbody>\n",
       "</table>\n",
       "</div>"
      ],
      "text/plain": [
       "                                                Text  Score\n",
       "0  I have bought several of the Vitality canned d...      2\n",
       "1  Product arrived labeled as Jumbo Salted Peanut...      0\n",
       "2  This is a confection that has been around a fe...      2\n",
       "3  If you are looking for the secret ingredient i...      0\n",
       "4  Great taffy at a great price.  There was a wid...      2"
      ]
     },
     "execution_count": 65,
     "metadata": {},
     "output_type": "execute_result"
    }
   ],
   "source": [
    "df_new_encoding.head()"
   ]
  },
  {
   "cell_type": "code",
   "execution_count": 72,
   "id": "45ee313f-d583-41aa-8a37-433e140eb474",
   "metadata": {},
   "outputs": [],
   "source": [
    "val_counts = df_new_encoding['Score'].value_counts(normalize = True)"
   ]
  },
  {
   "cell_type": "code",
   "execution_count": 74,
   "id": "275fcb82-51f4-4e81-9f26-816330e94284",
   "metadata": {},
   "outputs": [
    {
     "data": {
      "image/png": "[encoded data removed]",
      "text/plain": [
       "<Figure size 640x480 with 1 Axes>"
      ]
     },
     "metadata": {},
     "output_type": "display_data"
    }
   ],
   "source": [
    "plt.bar(val_counts.index,val_counts.values)\n",
    "plt.xlabel('New Score')\n",
    "plt.ylabel('Frequency')\n",
    "plt.grid()"
   ]
  },
  {
   "cell_type": "markdown",
   "id": "bcf480ab-0ead-4161-acdd-ef50d3ace215",
   "metadata": {},
   "source": [
    "We can see that after rescaling, the positive reviews (score = 2) are close to 80% of all reviews."
   ]
  },
  {
   "cell_type": "code",
   "execution_count": 77,
   "id": "573e9a49-ac3f-42f9-9600-25b67dfa599e",
   "metadata": {},
   "outputs": [
    {
     "data": {
      "text/plain": [
       "Score\n",
       "0     82037\n",
       "1     42640\n",
       "2    443777\n",
       "Name: count, dtype: int64"
      ]
     },
     "execution_count": 77,
     "metadata": {},
     "output_type": "execute_result"
    }
   ],
   "source": [
    "df_new_encoding['Score'].value_counts().sort_index()"
   ]
  },
  {
   "cell_type": "markdown",
   "id": "b75dd5ae-19c2-4757-9584-ac7f52cbb4ca",
   "metadata": {},
   "source": [
    "What we'll do is that we're going to extract 42,640 random rows from the negative and positive reviews (0 and 2, respectively) and combine them into a new dataframe so that all classes are in balance."
   ]
  },
  {
   "cell_type": "code",
   "execution_count": 81,
   "id": "f230f7b4-8602-4615-a728-bb5a45ae055c",
   "metadata": {},
   "outputs": [],
   "source": [
    "# Make a copy with only negative scores\n",
    "df_neg = df_new_encoding.query('Score == 0').sample(n = 42640, random_state = 10)"
   ]
  },
  {
   "cell_type": "code",
   "execution_count": 82,
   "id": "36e269a4-7619-477e-9282-e35e3f7430f8",
   "metadata": {},
   "outputs": [],
   "source": [
    "# similarly, for positive scores\n",
    "df_pos = df_new_encoding.query('Score == 2').sample(n = 42640, random_state = 10)"
   ]
  },
  {
   "cell_type": "code",
   "execution_count": 83,
   "id": "a4746c2d-1f8b-40e4-974e-1ab5f2c32a9e",
   "metadata": {},
   "outputs": [
    {
     "data": {
      "text/html": [
       "<div>\n",
       "<style scoped>\n",
       "    .dataframe tbody tr th:only-of-type {\n",
       "        vertical-align: middle;\n",
       "    }\n",
       "\n",
       "    .dataframe tbody tr th {\n",
       "        vertical-align: top;\n",
       "    }\n",
       "\n",
       "    .dataframe thead th {\n",
       "        text-align: right;\n",
       "    }\n",
       "</style>\n",
       "<table border=\"1\" class=\"dataframe\">\n",
       "  <thead>\n",
       "    <tr style=\"text-align: right;\">\n",
       "      <th></th>\n",
       "      <th>Text</th>\n",
       "      <th>Score</th>\n",
       "    </tr>\n",
       "  </thead>\n",
       "  <tbody>\n",
       "    <tr>\n",
       "      <th>368500</th>\n",
       "      <td>I drink a lot of sugar-free beverages, but the...</td>\n",
       "      <td>0</td>\n",
       "    </tr>\n",
       "    <tr>\n",
       "      <th>153134</th>\n",
       "      <td>I have been giving my dog this treat for a lon...</td>\n",
       "      <td>0</td>\n",
       "    </tr>\n",
       "    <tr>\n",
       "      <th>71174</th>\n",
       "      <td>It was very good while it worked. We have had ...</td>\n",
       "      <td>0</td>\n",
       "    </tr>\n",
       "    <tr>\n",
       "      <th>322047</th>\n",
       "      <td>Spent $20 thinking this would keep my dog ente...</td>\n",
       "      <td>0</td>\n",
       "    </tr>\n",
       "    <tr>\n",
       "      <th>120728</th>\n",
       "      <td>I purchased these at walmart but they were so ...</td>\n",
       "      <td>0</td>\n",
       "    </tr>\n",
       "  </tbody>\n",
       "</table>\n",
       "</div>"
      ],
      "text/plain": [
       "                                                     Text  Score\n",
       "368500  I drink a lot of sugar-free beverages, but the...      0\n",
       "153134  I have been giving my dog this treat for a lon...      0\n",
       "71174   It was very good while it worked. We have had ...      0\n",
       "322047  Spent $20 thinking this would keep my dog ente...      0\n",
       "120728  I purchased these at walmart but they were so ...      0"
      ]
     },
     "execution_count": 83,
     "metadata": {},
     "output_type": "execute_result"
    }
   ],
   "source": [
    "final_df = pd.concat([df_neg,df_new_encoding.query('Score == 1'),df_pos],axis = 0)\n",
    "final_df.head()"
   ]
  },
  {
   "cell_type": "code",
   "execution_count": 85,
   "id": "c9219f1c-2864-4076-a87c-5d7040df9bf6",
   "metadata": {},
   "outputs": [
    {
     "data": {
      "text/plain": [
       "(127920, 2)"
      ]
     },
     "execution_count": 85,
     "metadata": {},
     "output_type": "execute_result"
    }
   ],
   "source": [
    "final_df.shape"
   ]
  },
  {
   "cell_type": "code",
   "execution_count": 87,
   "id": "c9fbd5a4-035e-4a54-8c15-412ce8b31735",
   "metadata": {},
   "outputs": [
    {
     "data": {
      "text/plain": [
       "Score\n",
       "0    42640\n",
       "1    42640\n",
       "2    42640\n",
       "Name: count, dtype: int64"
      ]
     },
     "execution_count": 87,
     "metadata": {},
     "output_type": "execute_result"
    }
   ],
   "source": [
    "final_df['Score'].value_counts()"
   ]
  },
  {
   "cell_type": "markdown",
   "id": "ba5a67f2-b2dd-486f-925f-bdc5e0e0739b",
   "metadata": {},
   "source": [
    "# Split training and test data"
   ]
  },
  {
   "cell_type": "code",
   "execution_count": 100,
   "id": "5bcd63d9-f0c6-4800-b44c-c0f4f33218b7",
   "metadata": {},
   "outputs": [],
   "source": [
    "from sklearn.model_selection import train_test_split\n",
    "\n",
    "X = final_df['Text'].values\n",
    "y = final_df['Score'].values\n",
    "\n",
    "X_train,X_test,y_train,y_test = train_test_split(X,y, random_state = 10, stratify = y, train_size = 0.8)"
   ]
  },
  {
   "cell_type": "code",
   "execution_count": 101,
   "id": "ccf2a1c7-89fc-40f2-a19a-ee69a6f3020d",
   "metadata": {},
   "outputs": [
    {
     "name": "stdout",
     "output_type": "stream",
     "text": [
      "X shape\t (127920,)\n",
      "X_train \t (102336,)\n",
      "X_test\t (25584,)\n"
     ]
    }
   ],
   "source": [
    "print('X shape\\t',X.shape)\n",
    "print('X_train \\t',X_train.shape)\n",
    "print('X_test\\t',X_test.shape)"
   ]
  },
  {
   "cell_type": "code",
   "execution_count": 102,
   "id": "e048e3f9-2538-487b-9bf0-b6acc26930c9",
   "metadata": {},
   "outputs": [
    {
     "data": {
      "text/plain": [
       "127920"
      ]
     },
     "execution_count": 102,
     "metadata": {},
     "output_type": "execute_result"
    }
   ],
   "source": [
    "X_train.shape[0] + X_test.shape[0]"
   ]
  },
  {
   "cell_type": "markdown",
   "id": "9cebc95d-1ed2-4412-a120-a3e7242ea7a4",
   "metadata": {},
   "source": [
    "All numbers check correctly, the train set has 102,336 values."
   ]
  },
  {
   "cell_type": "markdown",
   "id": "e47931ea-4d37-4d60-8282-e55cc3855ceb",
   "metadata": {},
   "source": [
    "# MODELLING"
   ]
  },
  {
   "cell_type": "markdown",
   "id": "a373b7c3-788f-48c9-a544-9b5a8c451a2d",
   "metadata": {},
   "source": [
    "In this section I want to try different approaches to model the text and extract the sentimaent\n",
    "1. Bag of words model with Count Vectorizer\n",
    "2. TFID\n",
    "3. Vaders\n",
    "4. Other pretrained models"
   ]
  },
  {
   "cell_type": "markdown",
   "id": "82f030ae-d7aa-4705-8383-f78bfc0b488b",
   "metadata": {},
   "source": [
    "To evaluate the correctness of each model, since the reviews are balanced, then I will use classification metrics"
   ]
  },
  {
   "cell_type": "markdown",
   "id": "78547ef4-144f-4d42-ba27-ecbb3e755837",
   "metadata": {},
   "source": [
    "## Model 1 - Simple Bag of Words Count Vectorizer"
   ]
  },
  {
   "cell_type": "code",
   "execution_count": 92,
   "id": "4f647eb5-f5fb-4bb6-b617-7cec5e4a778a",
   "metadata": {},
   "outputs": [],
   "source": [
    "from sklearn.feature_extraction.text import CountVectorizer"
   ]
  },
  {
   "cell_type": "code",
   "execution_count": 103,
   "id": "f62eb826-a002-44a7-b785-305091c1ed5c",
   "metadata": {},
   "outputs": [],
   "source": [
    "# instantiate bag-of-words vectorizer\n",
    "\n",
    "bagofwords = CountVectorizer(stop_words = 'english',\n",
    "                             # max_features = 500, \n",
    "                             # min_df = 10\n",
    "                            )\n",
    "\n",
    "bagofwords.fit(X_train)\n",
    "X_train_bag = bagofwords.transform(X_train)"
   ]
  },
  {
   "cell_type": "code",
   "execution_count": 104,
   "id": "daf41080-82d5-4081-826b-1f752da6c90c",
   "metadata": {},
   "outputs": [
    {
     "data": {
      "text/plain": [
       "(102336, 56427)"
      ]
     },
     "execution_count": 104,
     "metadata": {},
     "output_type": "execute_result"
    }
   ],
   "source": [
    "X_train_bag.shape"
   ]
  },
  {
   "cell_type": "markdown",
   "id": "ed0fdc89-4261-406b-a8fc-843acf69bb7e",
   "metadata": {},
   "source": [
    "We can see that the number of features is 56,427 meaning that there is that number of unique words in the bag of words. Before continuing we should try reducing the number of features in 2 ways:\n",
    "- imposing a minimum document frequency\n",
    "- imposing a maximum number of features"
   ]
  },
  {
   "cell_type": "code",
   "execution_count": 105,
   "id": "e9cda56b-7716-41f6-a381-292e1c259f58",
   "metadata": {},
   "outputs": [],
   "source": [
    "bagofwords = CountVectorizer(stop_words = 'english',\n",
    "                             min_df = 10\n",
    "                            )\n",
    "\n",
    "bagofwords.fit(X_train)\n",
    "X_train_bag = bagofwords.transform(X_train)"
   ]
  },
  {
   "cell_type": "code",
   "execution_count": 106,
   "id": "1b69d47f-5940-4c5a-9d8e-0051c40eafda",
   "metadata": {},
   "outputs": [
    {
     "data": {
      "text/plain": [
       "(102336, 13506)"
      ]
     },
     "execution_count": 106,
     "metadata": {},
     "output_type": "execute_result"
    }
   ],
   "source": [
    "X_train_bag.shape"
   ]
  },
  {
   "cell_type": "markdown",
   "id": "a6d80c89-2edf-4f9c-b2fa-235652bf4dad",
   "metadata": {},
   "source": [
    "We can see that imposing a minimum document frequency of 10 reduces the number of features to 13,506. Now let's try to cap the max number of features."
   ]
  },
  {
   "cell_type": "code",
   "execution_count": null,
   "id": "7b03d043-10b6-4c95-8e1d-9877eaa16086",
   "metadata": {},
   "outputs": [],
   "source": []
  }
 ],
 "metadata": {
  "kernelspec": {
   "display_name": "pytorch_env_kernel",
   "language": "python",
   "name": "pytorch_env_kernel"
  },
  "language_info": {
   "codemirror_mode": {
    "name": "ipython",
    "version": 3
   },
   "file_extension": ".py",
   "mimetype": "text/x-python",
   "name": "python",
   "nbconvert_exporter": "python",
   "pygments_lexer": "ipython3",
   "version": "3.12.2"
  }
 },
 "nbformat": 4,
 "nbformat_minor": 5
}
