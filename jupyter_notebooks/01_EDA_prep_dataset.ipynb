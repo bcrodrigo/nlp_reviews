{
 "cells": [
  {
   "cell_type": "markdown",
   "id": "628bde29-3dff-4f82-8f7e-d8648c1fd286",
   "metadata": {},
   "source": [
    "# EDA for Reviews Dataset\n",
    "\n",
    "Rodrigo Becerra Carrillo\n",
    "\n",
    "https://github.com/bcrodrigo"
   ]
  },
  {
   "cell_type": "markdown",
   "id": "74dd3f00-0b9d-4192-99bc-309274bc5f7f",
   "metadata": {},
   "source": [
    "## Introduction"
   ]
  },
  {
   "cell_type": "markdown",
   "id": "96e0b875-a9c2-4594-a832-98d0bbc33b8f",
   "metadata": {},
   "source": [
    "Notebook to perform Exploratory Data Analysis and preprocessing on a reviews dataset of Amazon foods.\n",
    "The dataset was sourced from [here](https://www.kaggle.com/datasets/snap/amazon-fine-food-reviews/data)."
   ]
  },
  {
   "cell_type": "markdown",
   "id": "859f0729-9935-4771-a56d-64ef55625182",
   "metadata": {},
   "source": [
    "## Data Dictionary"
   ]
  },
  {
   "cell_type": "markdown",
   "id": "e09857cb-8df0-4a18-89ef-9ccd245e1590",
   "metadata": {},
   "source": [
    "\n",
    "| Column Name            | Description                                                               | Data Type |\n",
    "| ---------------------- | ------------------------------------------------------------------------- | --------- |\n",
    "| Id                     | Row ID                                                                    | int64     |\n",
    "| ProductId              | Unique identifier for Product                                             | object    |\n",
    "| UserId                 | Unique identifier for User                                                | object    |\n",
    "| ProfileName            | Profile name of the user                                                  | object    |\n",
    "| HelpfulnessNumerator   | Number of users who found the review helpful                              | int64     |\n",
    "| HelpfulnessDenominator | Number of users who indicated wether they found the review helpful or not | int64     |\n",
    "| Score                  | Rating between 1 and 5                                                    | int64     |\n",
    "| Time                   | Timestamp for the review                                                  | int64     |\n",
    "| Summary                | Brief summary of the review                                               | object    |\n",
    "| Text                   | Full review                                                               | object    |\n"
   ]
  },
  {
   "cell_type": "markdown",
   "id": "74229884-7db4-4c08-958d-98359aaf0ff1",
   "metadata": {},
   "source": [
    "# EDA"
   ]
  },
  {
   "cell_type": "markdown",
   "id": "7b434828-8be1-4d0c-9e2a-5045bd80bf39",
   "metadata": {},
   "source": [
    "## Import Libraries and Load DataFrame"
   ]
  },
  {
   "cell_type": "code",
   "execution_count": 1,
   "id": "8b7d1d9f-a58f-4c77-b121-ae60dd33f47f",
   "metadata": {},
   "outputs": [],
   "source": [
    "import numpy as np\n",
    "import pandas as pd\n",
    "\n",
    "import matplotlib.pyplot as plt"
   ]
  },
  {
   "cell_type": "code",
   "execution_count": 2,
   "id": "c92f2020-36c5-4c35-b5da-c35f41b0b970",
   "metadata": {},
   "outputs": [],
   "source": [
    "# Read compressed csv file\n",
    "df = pd.read_csv('../data/Reviews.csv.gz',compression = 'gzip')"
   ]
  },
  {
   "cell_type": "code",
   "execution_count": 3,
   "id": "706377fc-bf35-4655-aa51-9d1edc87c415",
   "metadata": {},
   "outputs": [
    {
     "name": "stdout",
     "output_type": "stream",
     "text": [
      "<class 'pandas.core.frame.DataFrame'>\n",
      "RangeIndex: 568454 entries, 0 to 568453\n",
      "Data columns (total 10 columns):\n",
      " #   Column                  Non-Null Count   Dtype \n",
      "---  ------                  --------------   ----- \n",
      " 0   Id                      568454 non-null  int64 \n",
      " 1   ProductId               568454 non-null  object\n",
      " 2   UserId                  568454 non-null  object\n",
      " 3   ProfileName             568428 non-null  object\n",
      " 4   HelpfulnessNumerator    568454 non-null  int64 \n",
      " 5   HelpfulnessDenominator  568454 non-null  int64 \n",
      " 6   Score                   568454 non-null  int64 \n",
      " 7   Time                    568454 non-null  int64 \n",
      " 8   Summary                 568427 non-null  object\n",
      " 9   Text                    568454 non-null  object\n",
      "dtypes: int64(5), object(5)\n",
      "memory usage: 43.4+ MB\n"
     ]
    }
   ],
   "source": [
    "df.info()"
   ]
  },
  {
   "cell_type": "code",
   "execution_count": 4,
   "id": "086bf828-e60a-4467-95da-0dd1fcb085fc",
   "metadata": {},
   "outputs": [
    {
     "data": {
      "text/plain": [
       "(568454, 10)"
      ]
     },
     "execution_count": 4,
     "metadata": {},
     "output_type": "execute_result"
    }
   ],
   "source": [
    "df.shape"
   ]
  },
  {
   "cell_type": "code",
   "execution_count": 5,
   "id": "837b4dfa-8303-4dc3-8772-be538a71e0cc",
   "metadata": {},
   "outputs": [
    {
     "data": {
      "text/html": [
       "<div>\n",
       "<style scoped>\n",
       "    .dataframe tbody tr th:only-of-type {\n",
       "        vertical-align: middle;\n",
       "    }\n",
       "\n",
       "    .dataframe tbody tr th {\n",
       "        vertical-align: top;\n",
       "    }\n",
       "\n",
       "    .dataframe thead th {\n",
       "        text-align: right;\n",
       "    }\n",
       "</style>\n",
       "<table border=\"1\" class=\"dataframe\">\n",
       "  <thead>\n",
       "    <tr style=\"text-align: right;\">\n",
       "      <th></th>\n",
       "      <th>Id</th>\n",
       "      <th>ProductId</th>\n",
       "      <th>UserId</th>\n",
       "      <th>ProfileName</th>\n",
       "      <th>HelpfulnessNumerator</th>\n",
       "      <th>HelpfulnessDenominator</th>\n",
       "      <th>Score</th>\n",
       "      <th>Time</th>\n",
       "      <th>Summary</th>\n",
       "      <th>Text</th>\n",
       "    </tr>\n",
       "  </thead>\n",
       "  <tbody>\n",
       "    <tr>\n",
       "      <th>0</th>\n",
       "      <td>1</td>\n",
       "      <td>B001E4KFG0</td>\n",
       "      <td>A3SGXH7AUHU8GW</td>\n",
       "      <td>delmartian</td>\n",
       "      <td>1</td>\n",
       "      <td>1</td>\n",
       "      <td>5</td>\n",
       "      <td>1303862400</td>\n",
       "      <td>Good Quality Dog Food</td>\n",
       "      <td>I have bought several of the Vitality canned d...</td>\n",
       "    </tr>\n",
       "    <tr>\n",
       "      <th>1</th>\n",
       "      <td>2</td>\n",
       "      <td>B00813GRG4</td>\n",
       "      <td>A1D87F6ZCVE5NK</td>\n",
       "      <td>dll pa</td>\n",
       "      <td>0</td>\n",
       "      <td>0</td>\n",
       "      <td>1</td>\n",
       "      <td>1346976000</td>\n",
       "      <td>Not as Advertised</td>\n",
       "      <td>Product arrived labeled as Jumbo Salted Peanut...</td>\n",
       "    </tr>\n",
       "    <tr>\n",
       "      <th>2</th>\n",
       "      <td>3</td>\n",
       "      <td>B000LQOCH0</td>\n",
       "      <td>ABXLMWJIXXAIN</td>\n",
       "      <td>Natalia Corres \"Natalia Corres\"</td>\n",
       "      <td>1</td>\n",
       "      <td>1</td>\n",
       "      <td>4</td>\n",
       "      <td>1219017600</td>\n",
       "      <td>\"Delight\" says it all</td>\n",
       "      <td>This is a confection that has been around a fe...</td>\n",
       "    </tr>\n",
       "    <tr>\n",
       "      <th>3</th>\n",
       "      <td>4</td>\n",
       "      <td>B000UA0QIQ</td>\n",
       "      <td>A395BORC6FGVXV</td>\n",
       "      <td>Karl</td>\n",
       "      <td>3</td>\n",
       "      <td>3</td>\n",
       "      <td>2</td>\n",
       "      <td>1307923200</td>\n",
       "      <td>Cough Medicine</td>\n",
       "      <td>If you are looking for the secret ingredient i...</td>\n",
       "    </tr>\n",
       "    <tr>\n",
       "      <th>4</th>\n",
       "      <td>5</td>\n",
       "      <td>B006K2ZZ7K</td>\n",
       "      <td>A1UQRSCLF8GW1T</td>\n",
       "      <td>Michael D. Bigham \"M. Wassir\"</td>\n",
       "      <td>0</td>\n",
       "      <td>0</td>\n",
       "      <td>5</td>\n",
       "      <td>1350777600</td>\n",
       "      <td>Great taffy</td>\n",
       "      <td>Great taffy at a great price.  There was a wid...</td>\n",
       "    </tr>\n",
       "  </tbody>\n",
       "</table>\n",
       "</div>"
      ],
      "text/plain": [
       "   Id   ProductId          UserId                      ProfileName  \\\n",
       "0   1  B001E4KFG0  A3SGXH7AUHU8GW                       delmartian   \n",
       "1   2  B00813GRG4  A1D87F6ZCVE5NK                           dll pa   \n",
       "2   3  B000LQOCH0   ABXLMWJIXXAIN  Natalia Corres \"Natalia Corres\"   \n",
       "3   4  B000UA0QIQ  A395BORC6FGVXV                             Karl   \n",
       "4   5  B006K2ZZ7K  A1UQRSCLF8GW1T    Michael D. Bigham \"M. Wassir\"   \n",
       "\n",
       "   HelpfulnessNumerator  HelpfulnessDenominator  Score        Time  \\\n",
       "0                     1                       1      5  1303862400   \n",
       "1                     0                       0      1  1346976000   \n",
       "2                     1                       1      4  1219017600   \n",
       "3                     3                       3      2  1307923200   \n",
       "4                     0                       0      5  1350777600   \n",
       "\n",
       "                 Summary                                               Text  \n",
       "0  Good Quality Dog Food  I have bought several of the Vitality canned d...  \n",
       "1      Not as Advertised  Product arrived labeled as Jumbo Salted Peanut...  \n",
       "2  \"Delight\" says it all  This is a confection that has been around a fe...  \n",
       "3         Cough Medicine  If you are looking for the secret ingredient i...  \n",
       "4            Great taffy  Great taffy at a great price.  There was a wid...  "
      ]
     },
     "execution_count": 5,
     "metadata": {},
     "output_type": "execute_result"
    }
   ],
   "source": [
    "df.head()"
   ]
  },
  {
   "cell_type": "markdown",
   "id": "55ccbfa5-c24d-4321-a29b-0f5db3f9c32f",
   "metadata": {},
   "source": [
    "From the cells above we see there are\n",
    "- 568,454 reviews in total\n",
    "- There are 10 columns\n",
    "- The `Text` and `Score` columns are probably going to be the only ones we use"
   ]
  },
  {
   "cell_type": "markdown",
   "id": "73493020-d0a3-42e2-988c-d4b0029a183a",
   "metadata": {},
   "source": [
    "Just for completeness let's check if there are any null values:"
   ]
  },
  {
   "cell_type": "code",
   "execution_count": 6,
   "id": "211a846e-c9e9-4a04-9032-d1aa399d4b91",
   "metadata": {},
   "outputs": [
    {
     "data": {
      "text/plain": [
       "Id                         0\n",
       "ProductId                  0\n",
       "UserId                     0\n",
       "ProfileName               26\n",
       "HelpfulnessNumerator       0\n",
       "HelpfulnessDenominator     0\n",
       "Score                      0\n",
       "Time                       0\n",
       "Summary                   27\n",
       "Text                       0\n",
       "dtype: int64"
      ]
     },
     "execution_count": 6,
     "metadata": {},
     "output_type": "execute_result"
    }
   ],
   "source": [
    "df.isnull().sum()"
   ]
  },
  {
   "cell_type": "markdown",
   "id": "6793b8ff-f8df-4506-9cf7-ff9a94399fbd",
   "metadata": {},
   "source": [
    "Only the `ProfileName` and `Summary` have null values. No issue because we're not really going to use these two columns as features."
   ]
  },
  {
   "cell_type": "code",
   "execution_count": 7,
   "id": "c18a1531-27b8-40b1-9ed6-e6148645e728",
   "metadata": {},
   "outputs": [
    {
     "data": {
      "text/plain": [
       "0"
      ]
     },
     "execution_count": 7,
     "metadata": {},
     "output_type": "execute_result"
    }
   ],
   "source": [
    "df.duplicated().sum()"
   ]
  },
  {
   "cell_type": "markdown",
   "id": "8513756f-7eab-43c5-9d63-052dd864465c",
   "metadata": {},
   "source": [
    "No duplicate rows."
   ]
  },
  {
   "cell_type": "markdown",
   "id": "dbcd1753-f5c9-4165-b8ec-2d79afa5a079",
   "metadata": {},
   "source": [
    "## Distribution of Review Scores"
   ]
  },
  {
   "cell_type": "code",
   "execution_count": 8,
   "id": "8d90d5db-667b-479a-a0a3-efd1e4496e43",
   "metadata": {},
   "outputs": [
    {
     "data": {
      "image/png": "[encoded data removed]",
      "text/plain": [
       "<Figure size 640x480 with 1 Axes>"
      ]
     },
     "metadata": {},
     "output_type": "display_data"
    }
   ],
   "source": [
    "ind = df['Score'].value_counts(normalize = True).index\n",
    "val = df['Score'].value_counts(normalize = True).values\n",
    "\n",
    "plt.bar(ind,val)\n",
    "plt.title('Distribution of Review Scores')\n",
    "plt.xlabel('Review Score')\n",
    "plt.ylabel('Fraction of total')\n",
    "plt.grid()\n",
    "\n",
    "plt.savefig('review_score_dist.png')"
   ]
  },
  {
   "cell_type": "markdown",
   "id": "e7294610-a606-4bc4-b9cd-6f566a4001cc",
   "metadata": {},
   "source": [
    "We can see that there is a class imbalance in the review score: over 60% of the reviews are scored 5, whereas the remaining 40% all range from 1 to 4. \n",
    "\n",
    "Therefore, we have different approaches to try and predict the sentiment of the review:\n",
    "- We can establish a threshold as to what constitutes a positive or negative review\n",
    "- We can convert the problem to 3-class (negative, neutral, positive) and downsample the positive reviews\n",
    "- If we want to preserve the review scores (multiclass classification) we can downsample the reviews with score 5"
   ]
  },
  {
   "cell_type": "markdown",
   "id": "e302bdf5-0a28-4aa7-8d37-7de12a59f2d3",
   "metadata": {},
   "source": [
    "## Distribution of Reviews by Product ID"
   ]
  },
  {
   "cell_type": "code",
   "execution_count": 9,
   "id": "fc46f905-55d7-4710-bcf2-d5c71f108fe8",
   "metadata": {},
   "outputs": [],
   "source": [
    "prod_val_counts = df['ProductId'].value_counts()"
   ]
  },
  {
   "cell_type": "code",
   "execution_count": 10,
   "id": "b202161e-b71f-4533-9437-c94e2f8b12a5",
   "metadata": {},
   "outputs": [
    {
     "data": {
      "text/plain": [
       "ProductId\n",
       "B007JFMH8M    913\n",
       "B0026RQTGE    632\n",
       "B002QWHJOU    632\n",
       "B002QWP89S    632\n",
       "B002QWP8H0    632\n",
       "             ... \n",
       "B004DSPTTM      1\n",
       "B008C9QWU8      1\n",
       "B007O5A6BM      1\n",
       "B003Q4TZ08      1\n",
       "B001LR2CU2      1\n",
       "Name: count, Length: 74258, dtype: int64"
      ]
     },
     "execution_count": 10,
     "metadata": {},
     "output_type": "execute_result"
    }
   ],
   "source": [
    "prod_val_counts"
   ]
  },
  {
   "cell_type": "code",
   "execution_count": 11,
   "id": "bfccbc7a-20ba-45c9-a4ae-4258a04537e1",
   "metadata": {},
   "outputs": [
    {
     "data": {
      "text/plain": [
       "(568454, 10)"
      ]
     },
     "execution_count": 11,
     "metadata": {},
     "output_type": "execute_result"
    }
   ],
   "source": [
    "df.shape"
   ]
  },
  {
   "cell_type": "markdown",
   "id": "b44ccc73-7b90-4f7b-9b9f-addd148ee676",
   "metadata": {},
   "source": [
    "We can see that there are 74,258 unique products and they all have anywhere between 1 and 913 different reviews. We could perhaps remove the products that have less than 5 reviews."
   ]
  },
  {
   "cell_type": "code",
   "execution_count": 12,
   "id": "376e457b-0c48-42e8-a6c2-a4f7357f3f4d",
   "metadata": {},
   "outputs": [
    {
     "data": {
      "text/plain": [
       "ProductId\n",
       "B007JFMH8M    913\n",
       "B0026RQTGE    632\n",
       "B002QWHJOU    632\n",
       "B002QWP89S    632\n",
       "B002QWP8H0    632\n",
       "             ... \n",
       "B000F764BW      6\n",
       "B003DNL9VA      6\n",
       "B004FH6NHS      6\n",
       "B000FVZW70      6\n",
       "B001EO7F8G      6\n",
       "Name: count, Length: 17310, dtype: int64"
      ]
     },
     "execution_count": 12,
     "metadata": {},
     "output_type": "execute_result"
    }
   ],
   "source": [
    "ind = (prod_val_counts.values > 5)\n",
    "prod_val_counts[ind]"
   ]
  },
  {
   "cell_type": "code",
   "execution_count": 13,
   "id": "aa30d40a-5a0c-4387-98b9-b530ef5dc0d5",
   "metadata": {},
   "outputs": [
    {
     "data": {
      "text/plain": [
       "Text(0, 0.5, 'Frequency')"
      ]
     },
     "execution_count": 13,
     "metadata": {},
     "output_type": "execute_result"
    },
    {
     "data": {
      "image/png": "[encoded data removed]",
      "text/plain": [
       "<Figure size 640x480 with 1 Axes>"
      ]
     },
     "metadata": {},
     "output_type": "display_data"
    }
   ],
   "source": [
    "plt.hist(prod_val_counts.values,20)\n",
    "plt.yscale('log')\n",
    "plt.grid()\n",
    "plt.xlabel('Number of Reviews')\n",
    "plt.ylabel('Frequency')"
   ]
  },
  {
   "cell_type": "markdown",
   "id": "a25895e6-61a7-48c3-b9ce-1f65d21bfb4f",
   "metadata": {},
   "source": [
    "From the graph above we see that products with less than 200 reviews have a higher frequency.\n",
    "\n",
    "There is also a gap in number of reviews between ~650 and 850. From the value counts before we see that there is one product which has 913 reviews, and the next set of products have 632."
   ]
  },
  {
   "cell_type": "markdown",
   "id": "7bbe4ba9-e548-40d2-9923-ae5d2ac4359a",
   "metadata": {},
   "source": [
    "## Average Length of Review"
   ]
  },
  {
   "cell_type": "markdown",
   "id": "bb39df71-9194-4054-80bd-a0379e4f6e93",
   "metadata": {},
   "source": [
    "We'll now calculate for each score what is the average length of a review."
   ]
  },
  {
   "cell_type": "code",
   "execution_count": 17,
   "id": "4d3b7c08-b4b8-4c25-8b0d-6db6cadc94dc",
   "metadata": {},
   "outputs": [
    {
     "data": {
      "text/html": [
       "<div>\n",
       "<style scoped>\n",
       "    .dataframe tbody tr th:only-of-type {\n",
       "        vertical-align: middle;\n",
       "    }\n",
       "\n",
       "    .dataframe tbody tr th {\n",
       "        vertical-align: top;\n",
       "    }\n",
       "\n",
       "    .dataframe thead th {\n",
       "        text-align: right;\n",
       "    }\n",
       "</style>\n",
       "<table border=\"1\" class=\"dataframe\">\n",
       "  <thead>\n",
       "    <tr style=\"text-align: right;\">\n",
       "      <th></th>\n",
       "      <th>Score</th>\n",
       "      <th>Text</th>\n",
       "    </tr>\n",
       "  </thead>\n",
       "  <tbody>\n",
       "    <tr>\n",
       "      <th>0</th>\n",
       "      <td>5</td>\n",
       "      <td>I have bought several of the Vitality canned d...</td>\n",
       "    </tr>\n",
       "    <tr>\n",
       "      <th>1</th>\n",
       "      <td>1</td>\n",
       "      <td>Product arrived labeled as Jumbo Salted Peanut...</td>\n",
       "    </tr>\n",
       "    <tr>\n",
       "      <th>2</th>\n",
       "      <td>4</td>\n",
       "      <td>This is a confection that has been around a fe...</td>\n",
       "    </tr>\n",
       "    <tr>\n",
       "      <th>3</th>\n",
       "      <td>2</td>\n",
       "      <td>If you are looking for the secret ingredient i...</td>\n",
       "    </tr>\n",
       "    <tr>\n",
       "      <th>4</th>\n",
       "      <td>5</td>\n",
       "      <td>Great taffy at a great price.  There was a wid...</td>\n",
       "    </tr>\n",
       "  </tbody>\n",
       "</table>\n",
       "</div>"
      ],
      "text/plain": [
       "   Score                                               Text\n",
       "0      5  I have bought several of the Vitality canned d...\n",
       "1      1  Product arrived labeled as Jumbo Salted Peanut...\n",
       "2      4  This is a confection that has been around a fe...\n",
       "3      2  If you are looking for the secret ingredient i...\n",
       "4      5  Great taffy at a great price.  There was a wid..."
      ]
     },
     "execution_count": 17,
     "metadata": {},
     "output_type": "execute_result"
    }
   ],
   "source": [
    "df[['Score','Text']].head()"
   ]
  },
  {
   "cell_type": "code",
   "execution_count": 26,
   "id": "3b08cd8d-ff32-4cf9-b40b-c97043093d56",
   "metadata": {},
   "outputs": [],
   "source": [
    "df['review_n_char'] = df['Text'].apply(lambda x: len(x))"
   ]
  },
  {
   "cell_type": "code",
   "execution_count": 27,
   "id": "19ee0e41-443f-45c8-8957-1251d8c5144a",
   "metadata": {},
   "outputs": [
    {
     "data": {
      "text/html": [
       "<div>\n",
       "<style scoped>\n",
       "    .dataframe tbody tr th:only-of-type {\n",
       "        vertical-align: middle;\n",
       "    }\n",
       "\n",
       "    .dataframe tbody tr th {\n",
       "        vertical-align: top;\n",
       "    }\n",
       "\n",
       "    .dataframe thead th {\n",
       "        text-align: right;\n",
       "    }\n",
       "</style>\n",
       "<table border=\"1\" class=\"dataframe\">\n",
       "  <thead>\n",
       "    <tr style=\"text-align: right;\">\n",
       "      <th></th>\n",
       "      <th>Score</th>\n",
       "      <th>review_n_char</th>\n",
       "    </tr>\n",
       "  </thead>\n",
       "  <tbody>\n",
       "    <tr>\n",
       "      <th>0</th>\n",
       "      <td>5</td>\n",
       "      <td>263</td>\n",
       "    </tr>\n",
       "    <tr>\n",
       "      <th>1</th>\n",
       "      <td>1</td>\n",
       "      <td>190</td>\n",
       "    </tr>\n",
       "    <tr>\n",
       "      <th>2</th>\n",
       "      <td>4</td>\n",
       "      <td>509</td>\n",
       "    </tr>\n",
       "    <tr>\n",
       "      <th>3</th>\n",
       "      <td>2</td>\n",
       "      <td>219</td>\n",
       "    </tr>\n",
       "    <tr>\n",
       "      <th>4</th>\n",
       "      <td>5</td>\n",
       "      <td>140</td>\n",
       "    </tr>\n",
       "    <tr>\n",
       "      <th>...</th>\n",
       "      <td>...</td>\n",
       "      <td>...</td>\n",
       "    </tr>\n",
       "    <tr>\n",
       "      <th>568449</th>\n",
       "      <td>5</td>\n",
       "      <td>149</td>\n",
       "    </tr>\n",
       "    <tr>\n",
       "      <th>568450</th>\n",
       "      <td>2</td>\n",
       "      <td>252</td>\n",
       "    </tr>\n",
       "    <tr>\n",
       "      <th>568451</th>\n",
       "      <td>5</td>\n",
       "      <td>372</td>\n",
       "    </tr>\n",
       "    <tr>\n",
       "      <th>568452</th>\n",
       "      <td>5</td>\n",
       "      <td>200</td>\n",
       "    </tr>\n",
       "    <tr>\n",
       "      <th>568453</th>\n",
       "      <td>5</td>\n",
       "      <td>111</td>\n",
       "    </tr>\n",
       "  </tbody>\n",
       "</table>\n",
       "<p>568454 rows × 2 columns</p>\n",
       "</div>"
      ],
      "text/plain": [
       "        Score  review_n_char\n",
       "0           5            263\n",
       "1           1            190\n",
       "2           4            509\n",
       "3           2            219\n",
       "4           5            140\n",
       "...       ...            ...\n",
       "568449      5            149\n",
       "568450      2            252\n",
       "568451      5            372\n",
       "568452      5            200\n",
       "568453      5            111\n",
       "\n",
       "[568454 rows x 2 columns]"
      ]
     },
     "execution_count": 27,
     "metadata": {},
     "output_type": "execute_result"
    }
   ],
   "source": [
    "df[['Score','review_n_char']]"
   ]
  },
  {
   "cell_type": "code",
   "execution_count": 30,
   "id": "eea59de4-3528-40d1-a11f-2ac7dc4ecd43",
   "metadata": {},
   "outputs": [],
   "source": [
    "agg_df = df[['Score','review_n_char']].groupby('Score').aggregate('mean')"
   ]
  },
  {
   "cell_type": "code",
   "execution_count": 37,
   "id": "6b1b2519-e6df-4b8b-b291-14333c30769c",
   "metadata": {},
   "outputs": [
    {
     "data": {
      "image/png": "[encoded data removed]",
      "text/plain": [
       "<Figure size 640x480 with 1 Axes>"
      ]
     },
     "metadata": {},
     "output_type": "display_data"
    }
   ],
   "source": [
    "agg_df.plot(kind = 'bar')\n",
    "plt.title('Average number of characters')\n",
    "plt.xlabel('Review Score')\n",
    "plt.ylabel('Review Length (# of characters)')\n",
    "plt.grid()\n",
    "ticks = plt.xticks(rotation = 0)"
   ]
  },
  {
   "cell_type": "markdown",
   "id": "07f8f03d-102c-4646-96bd-4aba771754da",
   "metadata": {},
   "source": [
    "From the graph above we see that, on average, there is no significant difference in the average number of characters of each review. \n",
    "\n",
    "The reviews with the highest score (5) seem to have the least number of characters."
   ]
  },
  {
   "cell_type": "markdown",
   "id": "0059dce9-1c01-4a5a-8418-17b42560d127",
   "metadata": {},
   "source": [
    "## EDA Findings"
   ]
  },
  {
   "cell_type": "markdown",
   "id": "37d4580d-ece8-4ce0-998c-285621eec514",
   "metadata": {},
   "source": [
    "- Reviews on average have the same character length across all scores.\n",
    "- The number of reviews per product range from 1 to 913.\n",
    "- There is an class imbalance in the review score (over 60% of reviews are scored 5)."
   ]
  },
  {
   "cell_type": "markdown",
   "id": "9f38dd0a-d111-4e0d-990f-b04b498b9fc7",
   "metadata": {},
   "source": [
    "# Preprocessing"
   ]
  },
  {
   "cell_type": "markdown",
   "id": "89e35ad0-e999-4343-b7ed-f0b8f83d91a5",
   "metadata": {},
   "source": [
    "In this section I'll test the helper functions to perform preprocessing of the data set. This step will perform the following operations on the dataset:\n",
    "\n",
    "1. Extract the relevant columns: `Text` and `Score`.\n",
    "2. Map the `Score` column from [1,5] to [0,2] (negative, neutral and positive).\n",
    "3. Balance the number of reviews based on the review score with least records. This will create a balanced dataset.\n",
    "4. Return the balanced dataset as a pandas DataFrame."
   ]
  },
  {
   "cell_type": "code",
   "execution_count": 65,
   "id": "55cbc0b6-609d-4c75-9657-093f60784904",
   "metadata": {},
   "outputs": [],
   "source": [
    "import pandas as pd\n",
    "\n",
    "def preprocess_dataset(csv_filename,rebalance=True):\n",
    "\n",
    "    # This will convert the original scores as follows\n",
    "    # 1,2 -> 0 (negative review)\n",
    "    # 3 -> 1 (neutral review)\n",
    "    # 4,5 -> (positive review)\n",
    "    mapping = {\n",
    "        1:0,2:0,3:1,4:2,5:2\n",
    "        }\n",
    "\n",
    "    df = pd.read_csv(csv_filename,compression='gzip')\n",
    "    \n",
    "    df_new = df[['Text','Score']].copy()\n",
    "    df_new['Score'] = df_new['Score'].map(mapping).values\n",
    "\n",
    "    if rebalance:\n",
    "        score_count = df_new['Score'].value_counts()\n",
    "        num_records = min(score_count.values)\n",
    "\n",
    "        newdf = pd.DataFrame()\n",
    "\n",
    "        for k in range(3):\n",
    "            \n",
    "            # sample `num_records` with given score\n",
    "            tempdf = df_new.query(f'Score == {k}').sample(n = num_records, random_state = 10).copy()\n",
    "    \n",
    "            newdf = pd.concat([newdf,tempdf],axis = 0)\n",
    "\n",
    "        df_new = newdf\n",
    "\n",
    "        # here we need to add a filter so that we can return \n",
    "        # two dataframes: the balanced one, and the remaining df with the 'excluded' reviews\n",
    "    \n",
    "\n",
    "    return df_new"
   ]
  },
  {
   "cell_type": "code",
   "execution_count": 52,
   "id": "b70df428-f334-4d18-9dd1-ba61a0294909",
   "metadata": {},
   "outputs": [],
   "source": [
    "df_new = preprocess_dataset('../data/Reviews.csv.gz')"
   ]
  },
  {
   "cell_type": "code",
   "execution_count": 53,
   "id": "f0c93209-8b2d-48af-9dd4-a6526924474d",
   "metadata": {},
   "outputs": [
    {
     "data": {
      "text/plain": [
       "(127920, 2)"
      ]
     },
     "execution_count": 53,
     "metadata": {},
     "output_type": "execute_result"
    }
   ],
   "source": [
    "df_new.shape"
   ]
  },
  {
   "cell_type": "code",
   "execution_count": 54,
   "id": "02c7e6c6-2b1c-49f8-9878-8946924e5aec",
   "metadata": {},
   "outputs": [
    {
     "data": {
      "text/plain": [
       "Index(['Text', 'Score'], dtype='object')"
      ]
     },
     "execution_count": 54,
     "metadata": {},
     "output_type": "execute_result"
    }
   ],
   "source": [
    "df_new.columns"
   ]
  },
  {
   "cell_type": "code",
   "execution_count": 55,
   "id": "f1f552a8-6350-4ee8-af6d-ac0b1548f356",
   "metadata": {},
   "outputs": [
    {
     "name": "stdout",
     "output_type": "stream",
     "text": [
      "<class 'pandas.core.frame.DataFrame'>\n",
      "Index: 127920 entries, 368500 to 40237\n",
      "Data columns (total 2 columns):\n",
      " #   Column  Non-Null Count   Dtype \n",
      "---  ------  --------------   ----- \n",
      " 0   Text    127920 non-null  object\n",
      " 1   Score   127920 non-null  int64 \n",
      "dtypes: int64(1), object(1)\n",
      "memory usage: 2.9+ MB\n"
     ]
    }
   ],
   "source": [
    "df_new.info()"
   ]
  },
  {
   "cell_type": "code",
   "execution_count": 56,
   "id": "fe5fb6b1-b33f-4f3c-9c2c-3437e9506cc3",
   "metadata": {},
   "outputs": [
    {
     "data": {
      "text/plain": [
       "Score\n",
       "0    42640\n",
       "1    42640\n",
       "2    42640\n",
       "Name: count, dtype: int64"
      ]
     },
     "execution_count": 56,
     "metadata": {},
     "output_type": "execute_result"
    }
   ],
   "source": [
    "df_new['Score'].value_counts()"
   ]
  },
  {
   "cell_type": "markdown",
   "id": "0b480d89-4bf1-4c9d-9c57-0e8c9f6f81f9",
   "metadata": {},
   "source": [
    "We see that now the dataset is balanced, all three Score values have the same number of reviews.\n",
    "\n",
    "We'll have to add an additional filter to return two dataframes: the balanced one (same as above) and another with the reviews that were not used for balancing."
   ]
  }
 ],
 "metadata": {
  "kernelspec": {
   "display_name": "pytorch_env_kernel",
   "language": "python",
   "name": "pytorch_env_kernel"
  },
  "language_info": {
   "codemirror_mode": {
    "name": "ipython",
    "version": 3
   },
   "file_extension": ".py",
   "mimetype": "text/x-python",
   "name": "python",
   "nbconvert_exporter": "python",
   "pygments_lexer": "ipython3",
   "version": "3.12.2"
  }
 },
 "nbformat": 4,
 "nbformat_minor": 5
}
