{
 "cells": [
  {
   "cell_type": "markdown",
   "id": "628bde29-3dff-4f82-8f7e-d8648c1fd286",
   "metadata": {},
   "source": [
    "# Preprocessing and Tokenization\n",
    "\n",
    "Rodrigo Becerra Carrillo\n",
    "\n",
    "https://github.com/bcrodrigo"
   ]
  },
  {
   "cell_type": "markdown",
   "id": "74dd3f00-0b9d-4192-99bc-309274bc5f7f",
   "metadata": {},
   "source": [
    "## Introduction"
   ]
  },
  {
   "cell_type": "markdown",
   "id": "96e0b875-a9c2-4594-a832-98d0bbc33b8f",
   "metadata": {},
   "source": [
    "Notebook to perform Preprocessing and Tokenization on a reviews dataset of Amazon foods.\n",
    "\n",
    "The dataset was sourced from [here](https://www.kaggle.com/datasets/snap/amazon-fine-food-reviews/data)."
   ]
  },
  {
   "cell_type": "markdown",
   "id": "859f0729-9935-4771-a56d-64ef55625182",
   "metadata": {},
   "source": [
    "## Data Dictionary"
   ]
  },
  {
   "cell_type": "markdown",
   "id": "e09857cb-8df0-4a18-89ef-9ccd245e1590",
   "metadata": {},
   "source": [
    "\n",
    "| Column Name            | Description                                                               | Data Type |\n",
    "| ---------------------- | ------------------------------------------------------------------------- | --------- |\n",
    "| Id                     | Row ID                                                                    | int64     |\n",
    "| ProductId              | Unique identifier for Product                                             | object    |\n",
    "| UserId                 | Unique identifier for User                                                | object    |\n",
    "| ProfileName            | Profile name of the user                                                  | object    |\n",
    "| HelpfulnessNumerator   | Number of users who found the review helpful                              | int64     |\n",
    "| HelpfulnessDenominator | Number of users who indicated wether they found the review helpful or not | int64     |\n",
    "| Score                  | Rating between 1 and 5                                                    | int64     |\n",
    "| Time                   | Timestamp for the review                                                  | int64     |\n",
    "| Summary                | Brief summary of the review                                               | object    |\n",
    "| Text                   | Full review                                                               | object    |\n"
   ]
  },
  {
   "cell_type": "markdown",
   "id": "004dd88c-1f68-4429-8dc8-f2f5c46dc5c3",
   "metadata": {},
   "source": [
    "Previously, we performed EDA and noticed there were no missing values, and that there was a class imbalance in the `Score`. From the table above, we'll only use `Text` and `Score` as features and target variable, respectively."
   ]
  },
  {
   "cell_type": "markdown",
   "id": "74229884-7db4-4c08-958d-98359aaf0ff1",
   "metadata": {},
   "source": [
    "## Import Custom Modules"
   ]
  },
  {
   "cell_type": "code",
   "execution_count": 1,
   "id": "f1538921-b3fb-425c-a7a9-4d7b8a1328da",
   "metadata": {},
   "outputs": [
    {
     "data": {
      "text/plain": [
       "['/Users/rodrigo/anaconda3/envs/nlp_env/lib/python311.zip',\n",
       " '/Users/rodrigo/anaconda3/envs/nlp_env/lib/python3.11',\n",
       " '/Users/rodrigo/anaconda3/envs/nlp_env/lib/python3.11/lib-dynload',\n",
       " '',\n",
       " '/Users/rodrigo/anaconda3/envs/nlp_env/lib/python3.11/site-packages']"
      ]
     },
     "execution_count": 1,
     "metadata": {},
     "output_type": "execute_result"
    }
   ],
   "source": [
    "import sys\n",
    "sys.path"
   ]
  },
  {
   "cell_type": "code",
   "execution_count": 2,
   "id": "e2751776-b584-49e1-bc34-19cc269b6ff9",
   "metadata": {},
   "outputs": [],
   "source": [
    "sys.path.append('..')"
   ]
  },
  {
   "cell_type": "code",
   "execution_count": 3,
   "id": "644290ba-6e63-45dc-bb5b-417a1061ff1e",
   "metadata": {},
   "outputs": [],
   "source": [
    "from src.preprocessing import preprocess_dataset"
   ]
  },
  {
   "cell_type": "code",
   "execution_count": 4,
   "id": "7e62c105-14ca-494f-8ea7-59b0b91a1715",
   "metadata": {},
   "outputs": [
    {
     "data": {
      "text/plain": [
       "\u001b[0;31mSignature:\u001b[0m \u001b[0mpreprocess_dataset\u001b[0m\u001b[0;34m(\u001b[0m\u001b[0mcsv_filename\u001b[0m\u001b[0;34m,\u001b[0m \u001b[0mrebalance\u001b[0m\u001b[0;34m=\u001b[0m\u001b[0;32mTrue\u001b[0m\u001b[0;34m)\u001b[0m\u001b[0;34m\u001b[0m\u001b[0;34m\u001b[0m\u001b[0m\n",
       "\u001b[0;31mDocstring:\u001b[0m\n",
       "Function to preprocess a reviews datascet in csv into a dataframe with score and text.\n",
       "\n",
       "Parameters\n",
       "----------\n",
       "csv_filename : str\n",
       "    Path to the csv file containing the data. Note the file is expected to be compressed using gzip.\n",
       "\n",
       "rebalance : bool, optional\n",
       "    Optional flag indicates to balance the number of reviews.\n",
       "\n",
       "Returns\n",
       "-------\n",
       "tuple\n",
       "    Pandas DataFrames (df_orig, df_rebalanced), each with two columns: text and review score.\n",
       "\n",
       "    if rebalance is False\n",
       "        df_orig : contains all records\n",
       "        df_rebalanced : is an empty dataframe\n",
       "\n",
       "    if rebalance is True\n",
       "        df_orig : contains all records minus those used to rebalance the review score\n",
       "        df_rebalanced : contains all records used to balanced number of reviews by score\n",
       "\n",
       "    Note that in either case pd.concat([df_orig,df_rebalanced]) equals to all the records in the original dataset.\n",
       "\u001b[0;31mFile:\u001b[0m      ~/Documents/Github/nlp_reviews/src/preprocessing.py\n",
       "\u001b[0;31mType:\u001b[0m      function"
      ]
     },
     "metadata": {},
     "output_type": "display_data"
    }
   ],
   "source": [
    "preprocess_dataset?"
   ]
  },
  {
   "cell_type": "markdown",
   "id": "7b434828-8be1-4d0c-9e2a-5045bd80bf39",
   "metadata": {},
   "source": [
    "## Import Libraries and Load DataFrame"
   ]
  },
  {
   "cell_type": "code",
   "execution_count": 5,
   "id": "8b7d1d9f-a58f-4c77-b121-ae60dd33f47f",
   "metadata": {},
   "outputs": [],
   "source": [
    "import numpy as np\n",
    "import pandas as pd\n",
    "\n",
    "import matplotlib.pyplot as plt"
   ]
  },
  {
   "cell_type": "code",
   "execution_count": 6,
   "id": "4c164a57-7368-45bc-ba3c-dfb911bc02d3",
   "metadata": {},
   "outputs": [],
   "source": [
    "file_path = '../data/Reviews.csv.gz'"
   ]
  },
  {
   "cell_type": "code",
   "execution_count": 7,
   "id": "79cbc127-4ccc-42d4-96be-9c7bd4680e05",
   "metadata": {},
   "outputs": [],
   "source": [
    "dforig, dfnew = preprocess_dataset(file_path,rebalance=True)"
   ]
  },
  {
   "cell_type": "code",
   "execution_count": 8,
   "id": "3f718d79-566f-434c-9631-faab1e5970af",
   "metadata": {},
   "outputs": [
    {
     "data": {
      "text/plain": [
       "(440534, 2)"
      ]
     },
     "execution_count": 8,
     "metadata": {},
     "output_type": "execute_result"
    }
   ],
   "source": [
    "dforig.shape"
   ]
  },
  {
   "cell_type": "code",
   "execution_count": 9,
   "id": "fac622df-29dc-4807-8709-4e2e4795feb6",
   "metadata": {},
   "outputs": [
    {
     "data": {
      "text/plain": [
       "(127920, 2)"
      ]
     },
     "execution_count": 9,
     "metadata": {},
     "output_type": "execute_result"
    }
   ],
   "source": [
    "dfnew.shape"
   ]
  },
  {
   "cell_type": "code",
   "execution_count": 10,
   "id": "7a95fbac-a534-4987-b208-f1f8c9b60bb4",
   "metadata": {},
   "outputs": [
    {
     "data": {
      "text/plain": [
       "568454"
      ]
     },
     "execution_count": 10,
     "metadata": {},
     "output_type": "execute_result"
    }
   ],
   "source": [
    "dfnew.shape[0] + dforig.shape[0]"
   ]
  },
  {
   "cell_type": "code",
   "execution_count": 11,
   "id": "651822c4-570f-45c1-a066-7a32b20321ee",
   "metadata": {},
   "outputs": [
    {
     "data": {
      "text/plain": [
       "Score\n",
       "0    42640\n",
       "1    42640\n",
       "2    42640\n",
       "Name: count, dtype: int64"
      ]
     },
     "execution_count": 11,
     "metadata": {},
     "output_type": "execute_result"
    }
   ],
   "source": [
    "dfnew['Score'].value_counts()"
   ]
  },
  {
   "cell_type": "code",
   "execution_count": 12,
   "id": "b8c80fe9-38d3-4978-a928-0b2a6da529d6",
   "metadata": {},
   "outputs": [
    {
     "data": {
      "text/plain": [
       "Score\n",
       "2    401137\n",
       "0     39397\n",
       "Name: count, dtype: int64"
      ]
     },
     "execution_count": 12,
     "metadata": {},
     "output_type": "execute_result"
    }
   ],
   "source": [
    "dforig['Score'].value_counts()"
   ]
  },
  {
   "cell_type": "markdown",
   "id": "9f38dd0a-d111-4e0d-990f-b04b498b9fc7",
   "metadata": {},
   "source": [
    "# Preprocessing"
   ]
  },
  {
   "cell_type": "markdown",
   "id": "f1b9ed9b-d807-4504-81af-c3479a4bf69c",
   "metadata": {},
   "source": [
    "In this section we'll tokenize the contents of `dfnew`.\n",
    "\n",
    "The first approach we'll take will be through the Bag-of-Words model with Scikit-Learn.\n",
    "We need to \n",
    "\n",
    "1. Use spaCy to define a custom tokenizer that removes punctuation, stop words, and performs either stemming or lemmatization\n",
    "2. Instantiate a `CountVectorizer` and pass custom tokenizer\n",
    "3. Figure out what is the minimum document frequency for the tokens"
   ]
  },
  {
   "cell_type": "markdown",
   "id": "23fbbaf9-603e-4e53-90a6-7b92f1be1e21",
   "metadata": {},
   "source": [
    "## Testing the custom tokenizer"
   ]
  },
  {
   "cell_type": "code",
   "execution_count": 54,
   "id": "61c4d963-f358-4ffe-93e1-9f74d05cdc06",
   "metadata": {},
   "outputs": [],
   "source": [
    "# get the first 5 reviews of the dataset\n",
    "dftest = dfnew['Text'].head()\n",
    "first5_rev = dftest.values.tolist()"
   ]
  },
  {
   "cell_type": "code",
   "execution_count": 55,
   "id": "246e79ff-e08a-4437-9fac-b145310c6bac",
   "metadata": {},
   "outputs": [],
   "source": [
    "import spacy\n",
    "\n",
    "def custom_spacy_tokenizer(sentence):\n",
    "    nlp = spacy.load(\"en_core_web_sm\")\n",
    "    document = nlp(sentence)\n",
    "    \n",
    "    # make a list of tokens not containing stop words and punctuation\n",
    "    token_list = [token for token in document if not token.is_punct and not token.is_stop]\n",
    "    \n",
    "    return token_list"
   ]
  },
  {
   "cell_type": "code",
   "execution_count": 56,
   "id": "cad723ab-ec52-424d-9d91-ccd2a6a157fd",
   "metadata": {},
   "outputs": [],
   "source": [
    "import spacy\n",
    "nlp = spacy.load(\"en_core_web_sm\")\n",
    "\n",
    "def custom_spacy_tokenizer_lemma(sentence,nlp):\n",
    "    \n",
    "    document = nlp(sentence)\n",
    "    \n",
    "    # make a list of tokens not containing stop words and punctuation\n",
    "    # and lemmatize them\n",
    "    token_list = [token.lemma_ for token in document if not token.is_punct and not token.is_stop]\n",
    "    \n",
    "    return token_list"
   ]
  },
  {
   "cell_type": "code",
   "execution_count": 67,
   "id": "21614320-364c-482e-b73d-81c1f01ad1e3",
   "metadata": {},
   "outputs": [],
   "source": [
    "import spacy\n",
    "\n",
    "def custom_spacy_tokenizer_lemma2(sentence):\n",
    "    nlp = spacy.load(\"en_core_web_sm\")\n",
    "    document = nlp(sentence)\n",
    "    \n",
    "    # make a list of tokens not containing stop words and punctuation\n",
    "    # and lemmatize them\n",
    "    token_list = [token.lemma_ for token in document if not token.is_punct and not token.is_stop and not token.is_space]\n",
    "    \n",
    "    return token_list"
   ]
  },
  {
   "cell_type": "code",
   "execution_count": 67,
   "id": "dcad1fd3-d726-473d-bd96-dbc9c18ca469",
   "metadata": {},
   "outputs": [],
   "source": [
    "import spacy\n",
    "\n",
    "def custom_spacy_tokenizer_lemma3(sentence):\n",
    "    nlp = spacy.load(\"en_core_web_sm\")\n",
    "    document = nlp(sentence)\n",
    "    \n",
    "    # make a list of tokens not containing stop words and punctuation\n",
    "    # and lemmatize them\n",
    "    token_list = [token.lemma_ for token in document if not token.is_punct and not token.is_stop and not token.is_space]\n",
    "    \n",
    "    return token_list"
   ]
  },
  {
   "cell_type": "code",
   "execution_count": 115,
   "id": "47ea3f04-3806-4d8b-b72b-5414da925a7d",
   "metadata": {},
   "outputs": [],
   "source": [
    "import spacy\n",
    "\n",
    "def custom_tokenizer_lemma4(sentence):\n",
    "    nlp = spacy.load(\"en_core_web_sm\")\n",
    "    doc = nlp(sentence)\n",
    "\n",
    "    token_list = [token.lemma_ for token in doc if not token.is_punct and not token.is_stop and not token.is_space and not token.is_digit and not token.is_currency]\n",
    "\n",
    "    return token_list"
   ]
  },
  {
   "cell_type": "code",
   "execution_count": 116,
   "id": "a1d657d8-5617-4463-b626-6bfe932e484e",
   "metadata": {},
   "outputs": [
    {
     "data": {
      "text/plain": [
       "[drink,\n",
       " lot,\n",
       " sugar,\n",
       " free,\n",
       " beverages,\n",
       " TERRIBLE,\n",
       " brew,\n",
       " cup,\n",
       " smells,\n",
       " like,\n",
       " melted,\n",
       " butter,\n",
       " taste,\n",
       " good,\n",
       " waste,\n",
       " money]"
      ]
     },
     "execution_count": 116,
     "metadata": {},
     "output_type": "execute_result"
    }
   ],
   "source": [
    "# tokenizer\n",
    "custom_spacy_tokenizer(first5_rev[0])"
   ]
  },
  {
   "cell_type": "code",
   "execution_count": 117,
   "id": "e586787b-f9e6-44a6-a7dd-f1ea483aa8f9",
   "metadata": {},
   "outputs": [
    {
     "data": {
      "text/plain": [
       "['spend',\n",
       " '$',\n",
       " '20',\n",
       " 'thinking',\n",
       " 'dog',\n",
       " 'entertain',\n",
       " 'little',\n",
       " ' ',\n",
       " 'minute',\n",
       " 'remove',\n",
       " 'treat',\n",
       " 'ball',\n",
       " 'happily',\n",
       " 'munch',\n",
       " 'away',\n",
       " ' ',\n",
       " 'love',\n",
       " 'treat',\n",
       " 'defeat',\n",
       " 'concept',\n",
       " ' ',\n",
       " 'worth',\n",
       " '$',\n",
       " '20']"
      ]
     },
     "execution_count": 117,
     "metadata": {},
     "output_type": "execute_result"
    }
   ],
   "source": [
    "# tokenizer with lemmatiztion\n",
    "custom_spacy_tokenizer_lemma(first5_rev[3],nlp)"
   ]
  },
  {
   "cell_type": "code",
   "execution_count": 77,
   "id": "93f81c6a-a002-45cb-884d-02868385e5e2",
   "metadata": {},
   "outputs": [
    {
     "name": "stdout",
     "output_type": "stream",
     "text": [
      "Spent $20 thinking this would keep my dog entertained for a little while.  Within a few minutes she had removed the treat from the ball and was happily munching away on it.  She loved the treat but defeated the whole concept.  Not worth my $20.\n"
     ]
    }
   ],
   "source": [
    "# show the full review\n",
    "print(first5_rev[3])"
   ]
  },
  {
   "cell_type": "code",
   "execution_count": 119,
   "id": "1612e5ee-cd3f-4471-af5e-e3cc17ad029e",
   "metadata": {},
   "outputs": [
    {
     "data": {
      "text/plain": [
       "['spend',\n",
       " 'thinking',\n",
       " 'dog',\n",
       " 'entertain',\n",
       " 'little',\n",
       " 'minute',\n",
       " 'remove',\n",
       " 'treat',\n",
       " 'ball',\n",
       " 'happily',\n",
       " 'munch',\n",
       " 'away',\n",
       " 'love',\n",
       " 'treat',\n",
       " 'defeat',\n",
       " 'concept',\n",
       " 'worth']"
      ]
     },
     "execution_count": 119,
     "metadata": {},
     "output_type": "execute_result"
    }
   ],
   "source": [
    "# tokenizer with lemmatiztion\n",
    "custom_tokenizer_lemma4(first5_rev[3])"
   ]
  },
  {
   "cell_type": "code",
   "execution_count": null,
   "id": "88543119-446e-4281-b9ec-e566b0b80872",
   "metadata": {},
   "outputs": [],
   "source": []
  },
  {
   "cell_type": "markdown",
   "id": "2e7ba8da-1186-47a5-8c01-d58c35c54984",
   "metadata": {},
   "source": [
    "## Comments"
   ]
  },
  {
   "cell_type": "markdown",
   "id": "187601c7-81a9-4dd9-96fc-543fb15b4cf3",
   "metadata": {},
   "source": [
    "What do we do about empty spaces? \n",
    "\n",
    "See `custom_spacy_tokenizer_lemma(first5_rev[1],nlp)` above. Between 'investigate' and 'FDA' \n",
    "\n",
    "Solution: Add an additional condition to the list comprehension to remove spaces (`token.is_space`)"
   ]
  },
  {
   "cell_type": "markdown",
   "id": "951c19b8-48db-434a-846b-04eb2748b4a3",
   "metadata": {},
   "source": [
    "## Test the count vectorizer"
   ]
  },
  {
   "cell_type": "code",
   "execution_count": 64,
   "id": "1a51e384-e8b1-48ec-8d24-44a0d352e575",
   "metadata": {},
   "outputs": [],
   "source": [
    "from sklearn.feature_extraction.text import CountVectorizer"
   ]
  },
  {
   "cell_type": "code",
   "execution_count": 121,
   "id": "cab36d6c-502d-46f4-a3de-3873aad2a52b",
   "metadata": {},
   "outputs": [
    {
     "data": {
      "text/plain": [
       "(5, 138)"
      ]
     },
     "execution_count": 121,
     "metadata": {},
     "output_type": "execute_result"
    }
   ],
   "source": [
    "bagofwords = CountVectorizer(tokenizer=custom_tokenizer_lemma4\n",
    "                            )\n",
    "bagofwords.fit(first5_rev)\n",
    "\n",
    "first5_rev_transformed = bagofwords.transform(first5_rev)\n",
    "first5_rev_transformed.shape"
   ]
  },
  {
   "cell_type": "code",
   "execution_count": 122,
   "id": "a1ae7ca0-c091-41cb-9a15-44e786804cd9",
   "metadata": {},
   "outputs": [
    {
     "data": {
      "image/png": "[encoded data removed]",
      "text/plain": [
       "<Figure size 1500x500 with 1 Axes>"
      ]
     },
     "metadata": {},
     "output_type": "display_data"
    }
   ],
   "source": [
    "word_counts = pd.DataFrame(\n",
    "    {\"counts\": first5_rev_transformed.toarray().sum(axis=0)},\n",
    "    index=bagofwords.get_feature_names_out()\n",
    ").sort_values(\"counts\", ascending=False)\n",
    "\n",
    "word_counts.head(20).plot(kind=\"bar\", figsize=(15, 5), legend=False)\n",
    "plt.title(\"Top 20 most frequently occurring words\")\n",
    "plt.ylabel(\"Count\")\n",
    "plt.xticks(rotation=45)\n",
    "plt.show()"
   ]
  },
  {
   "cell_type": "markdown",
   "id": "36f85db1-f0c2-4ef0-a3b0-e736a77b8add",
   "metadata": {},
   "source": [
    "## Comments"
   ]
  },
  {
   "cell_type": "markdown",
   "id": "94b576f9-4f9e-40f7-a5e3-785eaf92ecfa",
   "metadata": {},
   "source": [
    "- The tokenizer does take caer of the dollar signs, numeric values, symbols and punctuation."
   ]
  },
  {
   "cell_type": "code",
   "execution_count": null,
   "id": "4e5f879d-2279-465c-a661-67dbca63e374",
   "metadata": {},
   "outputs": [],
   "source": []
  },
  {
   "cell_type": "code",
   "execution_count": null,
   "id": "a907d38c-4ac9-45c2-868f-1b775515a2bb",
   "metadata": {},
   "outputs": [],
   "source": []
  },
  {
   "cell_type": "code",
   "execution_count": null,
   "id": "463f1231-939a-4d0c-a5d1-7ffb6455a950",
   "metadata": {},
   "outputs": [],
   "source": []
  },
  {
   "cell_type": "code",
   "execution_count": null,
   "id": "649d61c3-886f-46a7-86fb-73053a64928f",
   "metadata": {},
   "outputs": [],
   "source": []
  }
 ],
 "metadata": {
  "kernelspec": {
   "display_name": "nlp_env_kernel",
   "language": "python",
   "name": "nlp_env_kernel"
  },
  "language_info": {
   "codemirror_mode": {
    "name": "ipython",
    "version": 3
   },
   "file_extension": ".py",
   "mimetype": "text/x-python",
   "name": "python",
   "nbconvert_exporter": "python",
   "pygments_lexer": "ipython3",
   "version": "3.11.9"
  }
 },
 "nbformat": 4,
 "nbformat_minor": 5
}
