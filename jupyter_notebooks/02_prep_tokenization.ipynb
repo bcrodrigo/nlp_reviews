{
 "cells": [
  {
   "cell_type": "markdown",
   "id": "628bde29-3dff-4f82-8f7e-d8648c1fd286",
   "metadata": {},
   "source": [
    "# Preprocessing and Tokenization\n",
    "\n",
    "Rodrigo Becerra Carrillo\n",
    "\n",
    "https://github.com/bcrodrigo"
   ]
  },
  {
   "cell_type": "markdown",
   "id": "74dd3f00-0b9d-4192-99bc-309274bc5f7f",
   "metadata": {},
   "source": [
    "# Introduction"
   ]
  },
  {
   "cell_type": "markdown",
   "id": "96e0b875-a9c2-4594-a832-98d0bbc33b8f",
   "metadata": {},
   "source": [
    "Notebook to perform Preprocessing and Tokenization on a reviews dataset of Amazon foods.\n",
    "\n",
    "The dataset was sourced from [here](https://www.kaggle.com/datasets/snap/amazon-fine-food-reviews/data)."
   ]
  },
  {
   "cell_type": "markdown",
   "id": "859f0729-9935-4771-a56d-64ef55625182",
   "metadata": {},
   "source": [
    "## Data Dictionary"
   ]
  },
  {
   "cell_type": "markdown",
   "id": "e09857cb-8df0-4a18-89ef-9ccd245e1590",
   "metadata": {},
   "source": [
    "\n",
    "| Column Name            | Description                                                               | Data Type |\n",
    "| ---------------------- | ------------------------------------------------------------------------- | --------- |\n",
    "| Id                     | Row ID                                                                    | int64     |\n",
    "| ProductId              | Unique identifier for Product                                             | object    |\n",
    "| UserId                 | Unique identifier for User                                                | object    |\n",
    "| ProfileName            | Profile name of the user                                                  | object    |\n",
    "| HelpfulnessNumerator   | Number of users who found the review helpful                              | int64     |\n",
    "| HelpfulnessDenominator | Number of users who indicated wether they found the review helpful or not | int64     |\n",
    "| Score                  | Rating between 1 and 5                                                    | int64     |\n",
    "| Time                   | Timestamp for the review                                                  | int64     |\n",
    "| Summary                | Brief summary of the review                                               | object    |\n",
    "| Text                   | Full review                                                               | object    |\n"
   ]
  },
  {
   "cell_type": "markdown",
   "id": "004dd88c-1f68-4429-8dc8-f2f5c46dc5c3",
   "metadata": {},
   "source": [
    "Previously, we performed EDA and noticed there were no missing values, and that there was a class imbalance in the `Score`. From the table above, we'll only use `Text` and `Score` as features and target variable, respectively."
   ]
  },
  {
   "cell_type": "markdown",
   "id": "74229884-7db4-4c08-958d-98359aaf0ff1",
   "metadata": {},
   "source": [
    "## Import Custom Modules"
   ]
  },
  {
   "cell_type": "code",
   "execution_count": 1,
   "id": "f1538921-b3fb-425c-a7a9-4d7b8a1328da",
   "metadata": {},
   "outputs": [
    {
     "data": {
      "text/plain": [
       "['/Users/rodrigo/anaconda3/envs/nlp_env/lib/python311.zip',\n",
       " '/Users/rodrigo/anaconda3/envs/nlp_env/lib/python3.11',\n",
       " '/Users/rodrigo/anaconda3/envs/nlp_env/lib/python3.11/lib-dynload',\n",
       " '',\n",
       " '/Users/rodrigo/anaconda3/envs/nlp_env/lib/python3.11/site-packages']"
      ]
     },
     "execution_count": 1,
     "metadata": {},
     "output_type": "execute_result"
    }
   ],
   "source": [
    "import sys\n",
    "sys.path"
   ]
  },
  {
   "cell_type": "code",
   "execution_count": 2,
   "id": "e2751776-b584-49e1-bc34-19cc269b6ff9",
   "metadata": {},
   "outputs": [],
   "source": [
    "sys.path.append('..')"
   ]
  },
  {
   "cell_type": "code",
   "execution_count": 3,
   "id": "644290ba-6e63-45dc-bb5b-417a1061ff1e",
   "metadata": {},
   "outputs": [],
   "source": [
    "from src.preprocessing import preprocess_dataset"
   ]
  },
  {
   "cell_type": "code",
   "execution_count": 4,
   "id": "7e62c105-14ca-494f-8ea7-59b0b91a1715",
   "metadata": {},
   "outputs": [
    {
     "data": {
      "text/plain": [
       "\u001b[0;31mSignature:\u001b[0m \u001b[0mpreprocess_dataset\u001b[0m\u001b[0;34m(\u001b[0m\u001b[0mcsv_filename\u001b[0m\u001b[0;34m,\u001b[0m \u001b[0mrebalance\u001b[0m\u001b[0;34m=\u001b[0m\u001b[0;32mTrue\u001b[0m\u001b[0;34m)\u001b[0m\u001b[0;34m\u001b[0m\u001b[0;34m\u001b[0m\u001b[0m\n",
       "\u001b[0;31mDocstring:\u001b[0m\n",
       "Function to preprocess a reviews datascet in csv into a dataframe with score and text.\n",
       "\n",
       "Parameters\n",
       "----------\n",
       "csv_filename : str\n",
       "    Path to the csv file containing the data. Note the file is expected to be compressed using gzip.\n",
       "\n",
       "rebalance : bool, optional\n",
       "    Optional flag indicates to balance the number of reviews.\n",
       "\n",
       "Returns\n",
       "-------\n",
       "tuple\n",
       "    Pandas DataFrames (df_orig, df_rebalanced), each with two columns: text and review score.\n",
       "\n",
       "    if rebalance is False\n",
       "        df_orig : contains all records\n",
       "        df_rebalanced : is an empty dataframe\n",
       "\n",
       "    if rebalance is True\n",
       "        df_orig : contains all records minus those used to rebalance the review score\n",
       "        df_rebalanced : contains all records used to balanced number of reviews by score\n",
       "\n",
       "    Note that in either case pd.concat([df_orig,df_rebalanced]) equals to all the records in the original dataset.\n",
       "\u001b[0;31mFile:\u001b[0m      ~/Documents/Github/nlp_reviews/src/preprocessing.py\n",
       "\u001b[0;31mType:\u001b[0m      function"
      ]
     },
     "metadata": {},
     "output_type": "display_data"
    }
   ],
   "source": [
    "preprocess_dataset?"
   ]
  },
  {
   "cell_type": "markdown",
   "id": "7b434828-8be1-4d0c-9e2a-5045bd80bf39",
   "metadata": {},
   "source": [
    "# Import Libraries and Load DataFrame"
   ]
  },
  {
   "cell_type": "code",
   "execution_count": 5,
   "id": "8b7d1d9f-a58f-4c77-b121-ae60dd33f47f",
   "metadata": {},
   "outputs": [],
   "source": [
    "import numpy as np\n",
    "import pandas as pd"
   ]
  },
  {
   "cell_type": "code",
   "execution_count": 6,
   "id": "4c164a57-7368-45bc-ba3c-dfb911bc02d3",
   "metadata": {},
   "outputs": [],
   "source": [
    "file_path = '../data/Reviews.csv.gz'"
   ]
  },
  {
   "cell_type": "code",
   "execution_count": 7,
   "id": "79cbc127-4ccc-42d4-96be-9c7bd4680e05",
   "metadata": {},
   "outputs": [],
   "source": [
    "dforig, dfnew = preprocess_dataset(file_path,rebalance=True)"
   ]
  },
  {
   "cell_type": "code",
   "execution_count": 8,
   "id": "3f718d79-566f-434c-9631-faab1e5970af",
   "metadata": {},
   "outputs": [
    {
     "data": {
      "text/plain": [
       "(440534, 2)"
      ]
     },
     "execution_count": 8,
     "metadata": {},
     "output_type": "execute_result"
    }
   ],
   "source": [
    "dforig.shape"
   ]
  },
  {
   "cell_type": "code",
   "execution_count": 9,
   "id": "fac622df-29dc-4807-8709-4e2e4795feb6",
   "metadata": {},
   "outputs": [
    {
     "data": {
      "text/plain": [
       "(127920, 2)"
      ]
     },
     "execution_count": 9,
     "metadata": {},
     "output_type": "execute_result"
    }
   ],
   "source": [
    "dfnew.shape"
   ]
  },
  {
   "cell_type": "code",
   "execution_count": 10,
   "id": "7a95fbac-a534-4987-b208-f1f8c9b60bb4",
   "metadata": {},
   "outputs": [
    {
     "data": {
      "text/plain": [
       "568454"
      ]
     },
     "execution_count": 10,
     "metadata": {},
     "output_type": "execute_result"
    }
   ],
   "source": [
    "dfnew.shape[0] + dforig.shape[0]"
   ]
  },
  {
   "cell_type": "code",
   "execution_count": 11,
   "id": "651822c4-570f-45c1-a066-7a32b20321ee",
   "metadata": {},
   "outputs": [
    {
     "data": {
      "text/plain": [
       "Score\n",
       "0    42640\n",
       "1    42640\n",
       "2    42640\n",
       "Name: count, dtype: int64"
      ]
     },
     "execution_count": 11,
     "metadata": {},
     "output_type": "execute_result"
    }
   ],
   "source": [
    "dfnew['Score'].value_counts()"
   ]
  },
  {
   "cell_type": "code",
   "execution_count": 12,
   "id": "b8c80fe9-38d3-4978-a928-0b2a6da529d6",
   "metadata": {},
   "outputs": [
    {
     "data": {
      "text/plain": [
       "Score\n",
       "2    401137\n",
       "0     39397\n",
       "Name: count, dtype: int64"
      ]
     },
     "execution_count": 12,
     "metadata": {},
     "output_type": "execute_result"
    }
   ],
   "source": [
    "dforig['Score'].value_counts()"
   ]
  },
  {
   "cell_type": "markdown",
   "id": "9f38dd0a-d111-4e0d-990f-b04b498b9fc7",
   "metadata": {},
   "source": [
    "# Tokenization"
   ]
  },
  {
   "cell_type": "markdown",
   "id": "f1b9ed9b-d807-4504-81af-c3479a4bf69c",
   "metadata": {},
   "source": [
    "In this section we'll tokenize the contents of `dfnew`. The intent will be to use the Bag-of-Words model with Scikit-Learn.\n",
    "\n",
    "We need to:\n",
    "\n",
    "1. Use spaCy to define a custom tokenizer that removes punctuation, stop words, and performs lemmatization\n",
    "2. Instantiate a `CountVectorizer` and pass custom tokenizer\n",
    "3. Figure out what is the minimum document frequency for the tokens"
   ]
  },
  {
   "cell_type": "markdown",
   "id": "23fbbaf9-603e-4e53-90a6-7b92f1be1e21",
   "metadata": {},
   "source": [
    "## Testing the custom tokenizer"
   ]
  },
  {
   "cell_type": "code",
   "execution_count": 13,
   "id": "61c4d963-f358-4ffe-93e1-9f74d05cdc06",
   "metadata": {},
   "outputs": [],
   "source": [
    "# get the first 5 reviews of the dataset\n",
    "dftest = dfnew['Text'].head()\n",
    "first5_rev = dftest.values.tolist()"
   ]
  },
  {
   "cell_type": "code",
   "execution_count": 14,
   "id": "47ea3f04-3806-4d8b-b72b-5414da925a7d",
   "metadata": {},
   "outputs": [],
   "source": [
    "import spacy\n",
    "\n",
    "def custom_tokenizer(sentence):\n",
    "    nlp = spacy.load(\"en_core_web_sm\")\n",
    "    doc = nlp(sentence)\n",
    "\n",
    "    token_list = [token.lemma_ \n",
    "                  for token in doc \n",
    "                  if not token.is_punct \n",
    "                  and not token.is_stop \n",
    "                  and not token.is_space \n",
    "                  and not token.is_digit \n",
    "                  and not token.is_currency\n",
    "                 ]\n",
    "\n",
    "    return token_list"
   ]
  },
  {
   "cell_type": "code",
   "execution_count": 15,
   "id": "a1d657d8-5617-4463-b626-6bfe932e484e",
   "metadata": {},
   "outputs": [
    {
     "data": {
      "text/plain": [
       "['drink',\n",
       " 'lot',\n",
       " 'sugar',\n",
       " 'free',\n",
       " 'beverage',\n",
       " 'terrible',\n",
       " 'brew',\n",
       " 'cup',\n",
       " 'smell',\n",
       " 'like',\n",
       " 'melt',\n",
       " 'butter',\n",
       " 'taste',\n",
       " 'good',\n",
       " 'waste',\n",
       " 'money']"
      ]
     },
     "execution_count": 15,
     "metadata": {},
     "output_type": "execute_result"
    }
   ],
   "source": [
    "# tokenizer\n",
    "custom_tokenizer(first5_rev[0])"
   ]
  },
  {
   "cell_type": "code",
   "execution_count": 16,
   "id": "93f81c6a-a002-45cb-884d-02868385e5e2",
   "metadata": {},
   "outputs": [
    {
     "name": "stdout",
     "output_type": "stream",
     "text": [
      "I drink a lot of sugar-free beverages, but these are TERRIBLE. When you brew the cup, it smells like melted butter and the taste is not good at all. I wouldn't waste your money.\n"
     ]
    }
   ],
   "source": [
    "# show the full review\n",
    "print(first5_rev[0])"
   ]
  },
  {
   "cell_type": "code",
   "execution_count": 17,
   "id": "88543119-446e-4281-b9ec-e566b0b80872",
   "metadata": {},
   "outputs": [
    {
     "data": {
      "text/plain": [
       "['spend',\n",
       " 'thinking',\n",
       " 'dog',\n",
       " 'entertain',\n",
       " 'little',\n",
       " 'minute',\n",
       " 'remove',\n",
       " 'treat',\n",
       " 'ball',\n",
       " 'happily',\n",
       " 'munch',\n",
       " 'away',\n",
       " 'love',\n",
       " 'treat',\n",
       " 'defeat',\n",
       " 'concept',\n",
       " 'worth']"
      ]
     },
     "execution_count": 17,
     "metadata": {},
     "output_type": "execute_result"
    }
   ],
   "source": [
    "custom_tokenizer(first5_rev[3])"
   ]
  },
  {
   "cell_type": "code",
   "execution_count": 18,
   "id": "44ba2836-24d2-473a-9322-0e315b87b68d",
   "metadata": {},
   "outputs": [
    {
     "name": "stdout",
     "output_type": "stream",
     "text": [
      "Spent $20 thinking this would keep my dog entertained for a little while.  Within a few minutes she had removed the treat from the ball and was happily munching away on it.  She loved the treat but defeated the whole concept.  Not worth my $20.\n"
     ]
    }
   ],
   "source": [
    "print(first5_rev[3])"
   ]
  },
  {
   "cell_type": "markdown",
   "id": "951c19b8-48db-434a-846b-04eb2748b4a3",
   "metadata": {},
   "source": [
    "## Test the Count Vectorizer"
   ]
  },
  {
   "cell_type": "code",
   "execution_count": 21,
   "id": "1a51e384-e8b1-48ec-8d24-44a0d352e575",
   "metadata": {},
   "outputs": [],
   "source": [
    "from sklearn.feature_extraction.text import CountVectorizer"
   ]
  },
  {
   "cell_type": "code",
   "execution_count": 22,
   "id": "cab36d6c-502d-46f4-a3de-3873aad2a52b",
   "metadata": {},
   "outputs": [
    {
     "data": {
      "text/plain": [
       "(5, 138)"
      ]
     },
     "execution_count": 22,
     "metadata": {},
     "output_type": "execute_result"
    }
   ],
   "source": [
    "bagofwords = CountVectorizer(tokenizer=custom_tokenizer)\n",
    "bagofwords.fit(first5_rev)\n",
    "\n",
    "first5_rev_transformed = bagofwords.transform(first5_rev)\n",
    "first5_rev_transformed.shape"
   ]
  },
  {
   "cell_type": "code",
   "execution_count": 31,
   "id": "a1ae7ca0-c091-41cb-9a15-44e786804cd9",
   "metadata": {},
   "outputs": [],
   "source": [
    "import pandas as pd\n",
    "import matplotlib.pyplot as plt\n",
    "\n",
    "def top_words(Xtransf,bagofwords,num_words=20):\n",
    "    assert isinstance(num_words,int),\"num_words must be an integer\"\n",
    "    \n",
    "    word_counts = pd.DataFrame(\n",
    "        {\"counts\": Xtransf.toarray().sum(axis=0)},\n",
    "        index = bagofwords.get_feature_names_out()).sort_values(\"counts\", ascending=False)\n",
    "\n",
    "    word_counts.head(num_words).plot(kind=\"bar\", figsize=(15, 5), legend=False)\n",
    "    plt.title(f\"Top {num_words} most frequently occurring words\")\n",
    "    plt.ylabel(\"Count\")\n",
    "    plt.xticks(rotation=45)\n",
    "    plt.show()"
   ]
  },
  {
   "cell_type": "code",
   "execution_count": 32,
   "id": "278c8d01-d462-449f-abfc-7c04f53e9cdd",
   "metadata": {},
   "outputs": [
    {
     "data": {
      "image/png": "[encoded data removed]",
      "text/plain": [
       "<Figure size 1500x500 with 1 Axes>"
      ]
     },
     "metadata": {},
     "output_type": "display_data"
    }
   ],
   "source": [
    "top_words(first5_rev_transformed,bagofwords,20)"
   ]
  },
  {
   "cell_type": "markdown",
   "id": "16bf7723-4dc5-4fc9-9ec9-1bcb16dc5dc2",
   "metadata": {},
   "source": [
    "# Checking for the minimum document frequency"
   ]
  },
  {
   "cell_type": "markdown",
   "id": "405406b1-9458-409e-8c4a-d2752574b942",
   "metadata": {},
   "source": [
    "Now we'll add a large portion of the reviews into the tokenization pipeline"
   ]
  },
  {
   "cell_type": "code",
   "execution_count": 33,
   "id": "463f1231-939a-4d0c-a5d1-7ffb6455a950",
   "metadata": {},
   "outputs": [],
   "source": [
    "from sklearn.model_selection import train_test_split"
   ]
  },
  {
   "cell_type": "code",
   "execution_count": 61,
   "id": "ddc6760b-9489-435b-9c17-11eb8e04ef29",
   "metadata": {},
   "outputs": [],
   "source": [
    "def small_sample(dfnew,fraction):\n",
    "    # fraction = 0.1\n",
    "    \n",
    "    acc = pd.DataFrame()\n",
    "    \n",
    "    avail_score = dfnew['Score'].value_counts().index\n",
    "    \n",
    "    for score in avail_score:\n",
    "        tempdf = dfnew.query(f'Score == {score}').sample(frac = fraction, random_state = 10).copy()\n",
    "    \n",
    "        acc = pd.concat([acc,tempdf], axis = 0)\n",
    "    \n",
    "    return acc"
   ]
  },
  {
   "cell_type": "code",
   "execution_count": 62,
   "id": "b0085238-05b8-471e-bd9d-e0e1e9252005",
   "metadata": {},
   "outputs": [],
   "source": [
    "df_downsampled = small_sample(dfnew,0.1)"
   ]
  },
  {
   "cell_type": "code",
   "execution_count": 69,
   "id": "247c73d5-e0fe-4260-aba7-184c34f1e2ee",
   "metadata": {},
   "outputs": [
    {
     "data": {
      "text/plain": [
       "(12792, 2)"
      ]
     },
     "execution_count": 69,
     "metadata": {},
     "output_type": "execute_result"
    }
   ],
   "source": [
    "df_downsampled.shape"
   ]
  },
  {
   "cell_type": "code",
   "execution_count": 63,
   "id": "defa59df-6b2e-46f7-8573-5e4abafb1032",
   "metadata": {},
   "outputs": [
    {
     "data": {
      "text/plain": [
       "Score\n",
       "0    4264\n",
       "1    4264\n",
       "2    4264\n",
       "Name: count, dtype: int64"
      ]
     },
     "execution_count": 63,
     "metadata": {},
     "output_type": "execute_result"
    }
   ],
   "source": [
    "df_downsampled['Score'].value_counts()"
   ]
  },
  {
   "cell_type": "code",
   "execution_count": 64,
   "id": "bfdc2bdf-be97-47ca-ada4-3d174d2a73ab",
   "metadata": {},
   "outputs": [],
   "source": [
    "# # extract the values from `dfnew` dataframe\n",
    "# X = dfnew['Text']\n",
    "# y = dfnew['Score'].values"
   ]
  },
  {
   "cell_type": "code",
   "execution_count": 65,
   "id": "dd51ff82-d8d3-46cf-a751-8dfe0abc6756",
   "metadata": {},
   "outputs": [],
   "source": [
    "# extract the values from `df_downsampled` dataframe\n",
    "X = df_downsampled['Text']\n",
    "y = df_downsampled['Score'].values"
   ]
  },
  {
   "cell_type": "code",
   "execution_count": 67,
   "id": "7433de8b-f18c-4438-aa99-6f3b314f2520",
   "metadata": {},
   "outputs": [],
   "source": [
    "X_train,X_test,y_train,y_test = train_test_split(X,y,train_size = 0.8,random_state = 10,stratify = y)"
   ]
  },
  {
   "cell_type": "code",
   "execution_count": 68,
   "id": "dc554416-6ca5-485b-93ae-2891966ab6d5",
   "metadata": {},
   "outputs": [
    {
     "data": {
      "text/plain": [
       "12792"
      ]
     },
     "execution_count": 68,
     "metadata": {},
     "output_type": "execute_result"
    }
   ],
   "source": [
    "X_train.shape[0] + X_test.shape[0]"
   ]
  },
  {
   "cell_type": "code",
   "execution_count": 70,
   "id": "83036f88-6045-4d2b-b267-6129532f59b0",
   "metadata": {},
   "outputs": [
    {
     "data": {
      "text/plain": [
       "(12792,)"
      ]
     },
     "execution_count": 70,
     "metadata": {},
     "output_type": "execute_result"
    }
   ],
   "source": [
    "X.shape"
   ]
  },
  {
   "cell_type": "code",
   "execution_count": 71,
   "id": "4e2aa3e5-b120-48d3-b05f-67d6984723dc",
   "metadata": {},
   "outputs": [
    {
     "data": {
      "text/plain": [
       "(10233,)"
      ]
     },
     "execution_count": 71,
     "metadata": {},
     "output_type": "execute_result"
    }
   ],
   "source": [
    "X_train.shape"
   ]
  },
  {
   "cell_type": "code",
   "execution_count": null,
   "id": "dcd4fc94-b2de-4222-8027-e42f4a40d584",
   "metadata": {},
   "outputs": [],
   "source": []
  },
  {
   "cell_type": "code",
   "execution_count": 74,
   "id": "c1b9fae6-e03b-4750-80b7-f2f6856dc243",
   "metadata": {},
   "outputs": [],
   "source": [
    "import spacy\n",
    "nlp = spacy.load(\"en_core_web_sm\")\n",
    "\n",
    "def custom_tokenizer2(sentence):\n",
    "    \n",
    "    doc = nlp(sentence)\n",
    "\n",
    "    token_list = [token.lemma_ \n",
    "                  for token in doc \n",
    "                  if not token.is_punct \n",
    "                  and not token.is_stop \n",
    "                  and not token.is_space \n",
    "                  and not token.is_digit \n",
    "                  and not token.is_currency\n",
    "                 ]\n",
    "\n",
    "    return token_list"
   ]
  },
  {
   "cell_type": "code",
   "execution_count": 91,
   "id": "6ceb868d-4b42-4d22-8bb7-89ac21c90877",
   "metadata": {},
   "outputs": [],
   "source": [
    "bagofwords = CountVectorizer(tokenizer=custom_tokenizer2,\n",
    "                             min_df = 0.1\n",
    "                            )\n"
   ]
  },
  {
   "cell_type": "code",
   "execution_count": 92,
   "id": "f002bd7f-fa2c-4816-a08e-1a9b01bc9b87",
   "metadata": {},
   "outputs": [
    {
     "data": {
      "text/html": [
       "<style>#sk-container-id-6 {\n",
       "  /* Definition of color scheme common for light and dark mode */\n",
       "  --sklearn-color-text: black;\n",
       "  --sklearn-color-line: gray;\n",
       "  /* Definition of color scheme for unfitted estimators */\n",
       "  --sklearn-color-unfitted-level-0: #fff5e6;\n",
       "  --sklearn-color-unfitted-level-1: #f6e4d2;\n",
       "  --sklearn-color-unfitted-level-2: #ffe0b3;\n",
       "  --sklearn-color-unfitted-level-3: chocolate;\n",
       "  /* Definition of color scheme for fitted estimators */\n",
       "  --sklearn-color-fitted-level-0: #f0f8ff;\n",
       "  --sklearn-color-fitted-level-1: #d4ebff;\n",
       "  --sklearn-color-fitted-level-2: #b3dbfd;\n",
       "  --sklearn-color-fitted-level-3: cornflowerblue;\n",
       "\n",
       "  /* Specific color for light theme */\n",
       "  --sklearn-color-text-on-default-background: var(--sg-text-color, var(--theme-code-foreground, var(--jp-content-font-color1, black)));\n",
       "  --sklearn-color-background: var(--sg-background-color, var(--theme-background, var(--jp-layout-color0, white)));\n",
       "  --sklearn-color-border-box: var(--sg-text-color, var(--theme-code-foreground, var(--jp-content-font-color1, black)));\n",
       "  --sklearn-color-icon: #696969;\n",
       "\n",
       "  @media (prefers-color-scheme: dark) {\n",
       "    /* Redefinition of color scheme for dark theme */\n",
       "    --sklearn-color-text-on-default-background: var(--sg-text-color, var(--theme-code-foreground, var(--jp-content-font-color1, white)));\n",
       "    --sklearn-color-background: var(--sg-background-color, var(--theme-background, var(--jp-layout-color0, #111)));\n",
       "    --sklearn-color-border-box: var(--sg-text-color, var(--theme-code-foreground, var(--jp-content-font-color1, white)));\n",
       "    --sklearn-color-icon: #878787;\n",
       "  }\n",
       "}\n",
       "\n",
       "#sk-container-id-6 {\n",
       "  color: var(--sklearn-color-text);\n",
       "}\n",
       "\n",
       "#sk-container-id-6 pre {\n",
       "  padding: 0;\n",
       "}\n",
       "\n",
       "#sk-container-id-6 input.sk-hidden--visually {\n",
       "  border: 0;\n",
       "  clip: rect(1px 1px 1px 1px);\n",
       "  clip: rect(1px, 1px, 1px, 1px);\n",
       "  height: 1px;\n",
       "  margin: -1px;\n",
       "  overflow: hidden;\n",
       "  padding: 0;\n",
       "  position: absolute;\n",
       "  width: 1px;\n",
       "}\n",
       "\n",
       "#sk-container-id-6 div.sk-dashed-wrapped {\n",
       "  border: 1px dashed var(--sklearn-color-line);\n",
       "  margin: 0 0.4em 0.5em 0.4em;\n",
       "  box-sizing: border-box;\n",
       "  padding-bottom: 0.4em;\n",
       "  background-color: var(--sklearn-color-background);\n",
       "}\n",
       "\n",
       "#sk-container-id-6 div.sk-container {\n",
       "  /* jupyter's `normalize.less` sets `[hidden] { display: none; }`\n",
       "     but bootstrap.min.css set `[hidden] { display: none !important; }`\n",
       "     so we also need the `!important` here to be able to override the\n",
       "     default hidden behavior on the sphinx rendered scikit-learn.org.\n",
       "     See: https://github.com/scikit-learn/scikit-learn/issues/21755 */\n",
       "  display: inline-block !important;\n",
       "  position: relative;\n",
       "}\n",
       "\n",
       "#sk-container-id-6 div.sk-text-repr-fallback {\n",
       "  display: none;\n",
       "}\n",
       "\n",
       "div.sk-parallel-item,\n",
       "div.sk-serial,\n",
       "div.sk-item {\n",
       "  /* draw centered vertical line to link estimators */\n",
       "  background-image: linear-gradient(var(--sklearn-color-text-on-default-background), var(--sklearn-color-text-on-default-background));\n",
       "  background-size: 2px 100%;\n",
       "  background-repeat: no-repeat;\n",
       "  background-position: center center;\n",
       "}\n",
       "\n",
       "/* Parallel-specific style estimator block */\n",
       "\n",
       "#sk-container-id-6 div.sk-parallel-item::after {\n",
       "  content: \"\";\n",
       "  width: 100%;\n",
       "  border-bottom: 2px solid var(--sklearn-color-text-on-default-background);\n",
       "  flex-grow: 1;\n",
       "}\n",
       "\n",
       "#sk-container-id-6 div.sk-parallel {\n",
       "  display: flex;\n",
       "  align-items: stretch;\n",
       "  justify-content: center;\n",
       "  background-color: var(--sklearn-color-background);\n",
       "  position: relative;\n",
       "}\n",
       "\n",
       "#sk-container-id-6 div.sk-parallel-item {\n",
       "  display: flex;\n",
       "  flex-direction: column;\n",
       "}\n",
       "\n",
       "#sk-container-id-6 div.sk-parallel-item:first-child::after {\n",
       "  align-self: flex-end;\n",
       "  width: 50%;\n",
       "}\n",
       "\n",
       "#sk-container-id-6 div.sk-parallel-item:last-child::after {\n",
       "  align-self: flex-start;\n",
       "  width: 50%;\n",
       "}\n",
       "\n",
       "#sk-container-id-6 div.sk-parallel-item:only-child::after {\n",
       "  width: 0;\n",
       "}\n",
       "\n",
       "/* Serial-specific style estimator block */\n",
       "\n",
       "#sk-container-id-6 div.sk-serial {\n",
       "  display: flex;\n",
       "  flex-direction: column;\n",
       "  align-items: center;\n",
       "  background-color: var(--sklearn-color-background);\n",
       "  padding-right: 1em;\n",
       "  padding-left: 1em;\n",
       "}\n",
       "\n",
       "\n",
       "/* Toggleable style: style used for estimator/Pipeline/ColumnTransformer box that is\n",
       "clickable and can be expanded/collapsed.\n",
       "- Pipeline and ColumnTransformer use this feature and define the default style\n",
       "- Estimators will overwrite some part of the style using the `sk-estimator` class\n",
       "*/\n",
       "\n",
       "/* Pipeline and ColumnTransformer style (default) */\n",
       "\n",
       "#sk-container-id-6 div.sk-toggleable {\n",
       "  /* Default theme specific background. It is overwritten whether we have a\n",
       "  specific estimator or a Pipeline/ColumnTransformer */\n",
       "  background-color: var(--sklearn-color-background);\n",
       "}\n",
       "\n",
       "/* Toggleable label */\n",
       "#sk-container-id-6 label.sk-toggleable__label {\n",
       "  cursor: pointer;\n",
       "  display: block;\n",
       "  width: 100%;\n",
       "  margin-bottom: 0;\n",
       "  padding: 0.5em;\n",
       "  box-sizing: border-box;\n",
       "  text-align: center;\n",
       "}\n",
       "\n",
       "#sk-container-id-6 label.sk-toggleable__label-arrow:before {\n",
       "  /* Arrow on the left of the label */\n",
       "  content: \"▸\";\n",
       "  float: left;\n",
       "  margin-right: 0.25em;\n",
       "  color: var(--sklearn-color-icon);\n",
       "}\n",
       "\n",
       "#sk-container-id-6 label.sk-toggleable__label-arrow:hover:before {\n",
       "  color: var(--sklearn-color-text);\n",
       "}\n",
       "\n",
       "/* Toggleable content - dropdown */\n",
       "\n",
       "#sk-container-id-6 div.sk-toggleable__content {\n",
       "  max-height: 0;\n",
       "  max-width: 0;\n",
       "  overflow: hidden;\n",
       "  text-align: left;\n",
       "  /* unfitted */\n",
       "  background-color: var(--sklearn-color-unfitted-level-0);\n",
       "}\n",
       "\n",
       "#sk-container-id-6 div.sk-toggleable__content.fitted {\n",
       "  /* fitted */\n",
       "  background-color: var(--sklearn-color-fitted-level-0);\n",
       "}\n",
       "\n",
       "#sk-container-id-6 div.sk-toggleable__content pre {\n",
       "  margin: 0.2em;\n",
       "  border-radius: 0.25em;\n",
       "  color: var(--sklearn-color-text);\n",
       "  /* unfitted */\n",
       "  background-color: var(--sklearn-color-unfitted-level-0);\n",
       "}\n",
       "\n",
       "#sk-container-id-6 div.sk-toggleable__content.fitted pre {\n",
       "  /* unfitted */\n",
       "  background-color: var(--sklearn-color-fitted-level-0);\n",
       "}\n",
       "\n",
       "#sk-container-id-6 input.sk-toggleable__control:checked~div.sk-toggleable__content {\n",
       "  /* Expand drop-down */\n",
       "  max-height: 200px;\n",
       "  max-width: 100%;\n",
       "  overflow: auto;\n",
       "}\n",
       "\n",
       "#sk-container-id-6 input.sk-toggleable__control:checked~label.sk-toggleable__label-arrow:before {\n",
       "  content: \"▾\";\n",
       "}\n",
       "\n",
       "/* Pipeline/ColumnTransformer-specific style */\n",
       "\n",
       "#sk-container-id-6 div.sk-label input.sk-toggleable__control:checked~label.sk-toggleable__label {\n",
       "  color: var(--sklearn-color-text);\n",
       "  background-color: var(--sklearn-color-unfitted-level-2);\n",
       "}\n",
       "\n",
       "#sk-container-id-6 div.sk-label.fitted input.sk-toggleable__control:checked~label.sk-toggleable__label {\n",
       "  background-color: var(--sklearn-color-fitted-level-2);\n",
       "}\n",
       "\n",
       "/* Estimator-specific style */\n",
       "\n",
       "/* Colorize estimator box */\n",
       "#sk-container-id-6 div.sk-estimator input.sk-toggleable__control:checked~label.sk-toggleable__label {\n",
       "  /* unfitted */\n",
       "  background-color: var(--sklearn-color-unfitted-level-2);\n",
       "}\n",
       "\n",
       "#sk-container-id-6 div.sk-estimator.fitted input.sk-toggleable__control:checked~label.sk-toggleable__label {\n",
       "  /* fitted */\n",
       "  background-color: var(--sklearn-color-fitted-level-2);\n",
       "}\n",
       "\n",
       "#sk-container-id-6 div.sk-label label.sk-toggleable__label,\n",
       "#sk-container-id-6 div.sk-label label {\n",
       "  /* The background is the default theme color */\n",
       "  color: var(--sklearn-color-text-on-default-background);\n",
       "}\n",
       "\n",
       "/* On hover, darken the color of the background */\n",
       "#sk-container-id-6 div.sk-label:hover label.sk-toggleable__label {\n",
       "  color: var(--sklearn-color-text);\n",
       "  background-color: var(--sklearn-color-unfitted-level-2);\n",
       "}\n",
       "\n",
       "/* Label box, darken color on hover, fitted */\n",
       "#sk-container-id-6 div.sk-label.fitted:hover label.sk-toggleable__label.fitted {\n",
       "  color: var(--sklearn-color-text);\n",
       "  background-color: var(--sklearn-color-fitted-level-2);\n",
       "}\n",
       "\n",
       "/* Estimator label */\n",
       "\n",
       "#sk-container-id-6 div.sk-label label {\n",
       "  font-family: monospace;\n",
       "  font-weight: bold;\n",
       "  display: inline-block;\n",
       "  line-height: 1.2em;\n",
       "}\n",
       "\n",
       "#sk-container-id-6 div.sk-label-container {\n",
       "  text-align: center;\n",
       "}\n",
       "\n",
       "/* Estimator-specific */\n",
       "#sk-container-id-6 div.sk-estimator {\n",
       "  font-family: monospace;\n",
       "  border: 1px dotted var(--sklearn-color-border-box);\n",
       "  border-radius: 0.25em;\n",
       "  box-sizing: border-box;\n",
       "  margin-bottom: 0.5em;\n",
       "  /* unfitted */\n",
       "  background-color: var(--sklearn-color-unfitted-level-0);\n",
       "}\n",
       "\n",
       "#sk-container-id-6 div.sk-estimator.fitted {\n",
       "  /* fitted */\n",
       "  background-color: var(--sklearn-color-fitted-level-0);\n",
       "}\n",
       "\n",
       "/* on hover */\n",
       "#sk-container-id-6 div.sk-estimator:hover {\n",
       "  /* unfitted */\n",
       "  background-color: var(--sklearn-color-unfitted-level-2);\n",
       "}\n",
       "\n",
       "#sk-container-id-6 div.sk-estimator.fitted:hover {\n",
       "  /* fitted */\n",
       "  background-color: var(--sklearn-color-fitted-level-2);\n",
       "}\n",
       "\n",
       "/* Specification for estimator info (e.g. \"i\" and \"?\") */\n",
       "\n",
       "/* Common style for \"i\" and \"?\" */\n",
       "\n",
       ".sk-estimator-doc-link,\n",
       "a:link.sk-estimator-doc-link,\n",
       "a:visited.sk-estimator-doc-link {\n",
       "  float: right;\n",
       "  font-size: smaller;\n",
       "  line-height: 1em;\n",
       "  font-family: monospace;\n",
       "  background-color: var(--sklearn-color-background);\n",
       "  border-radius: 1em;\n",
       "  height: 1em;\n",
       "  width: 1em;\n",
       "  text-decoration: none !important;\n",
       "  margin-left: 1ex;\n",
       "  /* unfitted */\n",
       "  border: var(--sklearn-color-unfitted-level-1) 1pt solid;\n",
       "  color: var(--sklearn-color-unfitted-level-1);\n",
       "}\n",
       "\n",
       ".sk-estimator-doc-link.fitted,\n",
       "a:link.sk-estimator-doc-link.fitted,\n",
       "a:visited.sk-estimator-doc-link.fitted {\n",
       "  /* fitted */\n",
       "  border: var(--sklearn-color-fitted-level-1) 1pt solid;\n",
       "  color: var(--sklearn-color-fitted-level-1);\n",
       "}\n",
       "\n",
       "/* On hover */\n",
       "div.sk-estimator:hover .sk-estimator-doc-link:hover,\n",
       ".sk-estimator-doc-link:hover,\n",
       "div.sk-label-container:hover .sk-estimator-doc-link:hover,\n",
       ".sk-estimator-doc-link:hover {\n",
       "  /* unfitted */\n",
       "  background-color: var(--sklearn-color-unfitted-level-3);\n",
       "  color: var(--sklearn-color-background);\n",
       "  text-decoration: none;\n",
       "}\n",
       "\n",
       "div.sk-estimator.fitted:hover .sk-estimator-doc-link.fitted:hover,\n",
       ".sk-estimator-doc-link.fitted:hover,\n",
       "div.sk-label-container:hover .sk-estimator-doc-link.fitted:hover,\n",
       ".sk-estimator-doc-link.fitted:hover {\n",
       "  /* fitted */\n",
       "  background-color: var(--sklearn-color-fitted-level-3);\n",
       "  color: var(--sklearn-color-background);\n",
       "  text-decoration: none;\n",
       "}\n",
       "\n",
       "/* Span, style for the box shown on hovering the info icon */\n",
       ".sk-estimator-doc-link span {\n",
       "  display: none;\n",
       "  z-index: 9999;\n",
       "  position: relative;\n",
       "  font-weight: normal;\n",
       "  right: .2ex;\n",
       "  padding: .5ex;\n",
       "  margin: .5ex;\n",
       "  width: min-content;\n",
       "  min-width: 20ex;\n",
       "  max-width: 50ex;\n",
       "  color: var(--sklearn-color-text);\n",
       "  box-shadow: 2pt 2pt 4pt #999;\n",
       "  /* unfitted */\n",
       "  background: var(--sklearn-color-unfitted-level-0);\n",
       "  border: .5pt solid var(--sklearn-color-unfitted-level-3);\n",
       "}\n",
       "\n",
       ".sk-estimator-doc-link.fitted span {\n",
       "  /* fitted */\n",
       "  background: var(--sklearn-color-fitted-level-0);\n",
       "  border: var(--sklearn-color-fitted-level-3);\n",
       "}\n",
       "\n",
       ".sk-estimator-doc-link:hover span {\n",
       "  display: block;\n",
       "}\n",
       "\n",
       "/* \"?\"-specific style due to the `<a>` HTML tag */\n",
       "\n",
       "#sk-container-id-6 a.estimator_doc_link {\n",
       "  float: right;\n",
       "  font-size: 1rem;\n",
       "  line-height: 1em;\n",
       "  font-family: monospace;\n",
       "  background-color: var(--sklearn-color-background);\n",
       "  border-radius: 1rem;\n",
       "  height: 1rem;\n",
       "  width: 1rem;\n",
       "  text-decoration: none;\n",
       "  /* unfitted */\n",
       "  color: var(--sklearn-color-unfitted-level-1);\n",
       "  border: var(--sklearn-color-unfitted-level-1) 1pt solid;\n",
       "}\n",
       "\n",
       "#sk-container-id-6 a.estimator_doc_link.fitted {\n",
       "  /* fitted */\n",
       "  border: var(--sklearn-color-fitted-level-1) 1pt solid;\n",
       "  color: var(--sklearn-color-fitted-level-1);\n",
       "}\n",
       "\n",
       "/* On hover */\n",
       "#sk-container-id-6 a.estimator_doc_link:hover {\n",
       "  /* unfitted */\n",
       "  background-color: var(--sklearn-color-unfitted-level-3);\n",
       "  color: var(--sklearn-color-background);\n",
       "  text-decoration: none;\n",
       "}\n",
       "\n",
       "#sk-container-id-6 a.estimator_doc_link.fitted:hover {\n",
       "  /* fitted */\n",
       "  background-color: var(--sklearn-color-fitted-level-3);\n",
       "}\n",
       "</style><div id=\"sk-container-id-6\" class=\"sk-top-container\"><div class=\"sk-text-repr-fallback\"><pre>CountVectorizer(min_df=0.1,\n",
       "                tokenizer=&lt;function custom_tokenizer2 at 0x30ed03600&gt;)</pre><b>In a Jupyter environment, please rerun this cell to show the HTML representation or trust the notebook. <br />On GitHub, the HTML representation is unable to render, please try loading this page with nbviewer.org.</b></div><div class=\"sk-container\" hidden><div class=\"sk-item\"><div class=\"sk-estimator fitted sk-toggleable\"><input class=\"sk-toggleable__control sk-hidden--visually\" id=\"sk-estimator-id-6\" type=\"checkbox\" checked><label for=\"sk-estimator-id-6\" class=\"sk-toggleable__label fitted sk-toggleable__label-arrow fitted\">&nbsp;&nbsp;CountVectorizer<a class=\"sk-estimator-doc-link fitted\" rel=\"noreferrer\" target=\"_blank\" href=\"https://scikit-learn.org/1.5/modules/generated/sklearn.feature_extraction.text.CountVectorizer.html\">?<span>Documentation for CountVectorizer</span></a><span class=\"sk-estimator-doc-link fitted\">i<span>Fitted</span></span></label><div class=\"sk-toggleable__content fitted\"><pre>CountVectorizer(min_df=0.1,\n",
       "                tokenizer=&lt;function custom_tokenizer2 at 0x30ed03600&gt;)</pre></div> </div></div></div></div>"
      ],
      "text/plain": [
       "CountVectorizer(min_df=0.1,\n",
       "                tokenizer=<function custom_tokenizer2 at 0x30ed03600>)"
      ]
     },
     "execution_count": 92,
     "metadata": {},
     "output_type": "execute_result"
    }
   ],
   "source": [
    "bagofwords.fit(X_train.sample(frac = 0.3))"
   ]
  },
  {
   "cell_type": "code",
   "execution_count": 93,
   "id": "1bbeee49-cd7d-483b-945d-1caf5504db5f",
   "metadata": {},
   "outputs": [
    {
     "data": {
      "text/plain": [
       "(3070, 30)"
      ]
     },
     "execution_count": 93,
     "metadata": {},
     "output_type": "execute_result"
    }
   ],
   "source": [
    "X_train_transformed = bagofwords.transform(X_train.sample(frac = 0.3))\n",
    "X_train_transformed.shape"
   ]
  },
  {
   "cell_type": "code",
   "execution_count": null,
   "id": "649d61c3-886f-46a7-86fb-73053a64928f",
   "metadata": {},
   "outputs": [],
   "source": []
  },
  {
   "cell_type": "code",
   "execution_count": 94,
   "id": "0603d92b-255d-47b7-aa87-ed42c4c9e2d3",
   "metadata": {},
   "outputs": [],
   "source": [
    "import pandas as pd\n",
    "import matplotlib.pyplot as plt\n",
    "\n",
    "def bottom_words(Xtransf,bagofwords,num_words=20):\n",
    "    assert isinstance(num_words,int),\"num_words must be an integer\"\n",
    "    \n",
    "    word_counts = pd.DataFrame(\n",
    "        {\"counts\": Xtransf.toarray().sum(axis=0)},\n",
    "        index = bagofwords.get_feature_names_out()).sort_values(\"counts\", ascending=True)\n",
    "\n",
    "    word_counts.head(num_words).plot(kind=\"bar\", figsize=(15, 5), legend=False)\n",
    "    plt.title(f\"Top {num_words} least frequently occurring words\")\n",
    "    plt.ylabel(\"Count\")\n",
    "    plt.xticks(rotation=45)\n",
    "    plt.show()"
   ]
  },
  {
   "cell_type": "code",
   "execution_count": 95,
   "id": "799552c1-f2a5-4bbc-81f2-624432916840",
   "metadata": {},
   "outputs": [
    {
     "data": {
      "image/png": "[encoded data removed]",
      "text/plain": [
       "<Figure size 1500x500 with 1 Axes>"
      ]
     },
     "metadata": {},
     "output_type": "display_data"
    }
   ],
   "source": [
    "bottom_words(X_train_transformed,bagofwords)"
   ]
  },
  {
   "cell_type": "code",
   "execution_count": 96,
   "id": "b381e5eb-c43a-4c7e-ba20-8173adf0eab3",
   "metadata": {},
   "outputs": [
    {
     "data": {
      "image/png": "[encoded data removed]",
      "text/plain": [
       "<Figure size 1500x500 with 1 Axes>"
      ]
     },
     "metadata": {},
     "output_type": "display_data"
    }
   ],
   "source": [
    "top_words(X_train_transformed,bagofwords)"
   ]
  },
  {
   "cell_type": "markdown",
   "id": "cab8842a-9f43-4c9c-95da-549f39fa5148",
   "metadata": {},
   "source": [
    "# Comments and further actions"
   ]
  },
  {
   "cell_type": "markdown",
   "id": "ea5e645b-3e23-4d62-aff5-426737f6a9b7",
   "metadata": {},
   "source": [
    "- We see from the top words that there might be html tags present in the text. We will have to deal with those in the preprocessing prior to tokenization. Perhaps we need a specific text cleanup function.\n",
    "- Next, we've leanred that the count vectorizer can reasonably handle about 30% of the training data\n",
    "- We'll need to abstract the top and bottom words plotting function, perhaps in a single function call with two plots"
   ]
  }
 ],
 "metadata": {
  "kernelspec": {
   "display_name": "nlp_env_kernel",
   "language": "python",
   "name": "nlp_env_kernel"
  },
  "language_info": {
   "codemirror_mode": {
    "name": "ipython",
    "version": 3
   },
   "file_extension": ".py",
   "mimetype": "text/x-python",
   "name": "python",
   "nbconvert_exporter": "python",
   "pygments_lexer": "ipython3",
   "version": "3.11.9"
  }
 },
 "nbformat": 4,
 "nbformat_minor": 5
}
